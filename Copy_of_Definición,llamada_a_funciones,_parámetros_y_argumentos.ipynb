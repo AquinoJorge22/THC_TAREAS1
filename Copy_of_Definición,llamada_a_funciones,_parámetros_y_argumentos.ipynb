{
  "cells": [
    {
      "cell_type": "markdown",
      "metadata": {
        "id": "view-in-github",
        "colab_type": "text"
      },
      "source": [
        "<a href=\"https://colab.research.google.com/github/AquinoJorge22/THC_TAREAS1/blob/main/Copy_of_Definici%C3%B3n%2Cllamada_a_funciones%2C_par%C3%A1metros_y_argumentos.ipynb\" target=\"_parent\"><img src=\"https://colab.research.google.com/assets/colab-badge.svg\" alt=\"Open In Colab\"/></a>"
      ]
    },
    {
      "cell_type": "markdown",
      "id": "0c4018bd",
      "metadata": {
        "id": "0c4018bd"
      },
      "source": [
        "<font color=\"Red\" face=\"Comic Sans MS,arial\">\n",
        "  <h1 align=\"center\"><i>Definición,llamada a funciones, parámetros y argumentos </i></h1>\n",
        "  </font>\n",
        "  \n",
        "> Elaborado por: Jesús Iván Coss Calderón. mat_ing_coss@ciencias.unam.mx"
      ]
    },
    {
      "cell_type": "markdown",
      "id": "d572795c",
      "metadata": {
        "id": "d572795c"
      },
      "source": [
        "**Objetivo general**\n",
        "\n",
        "* Aprender los fundamentos de la declaración de funciones\n",
        "\n",
        "**Objetivos particulares**\n",
        "\n",
        "* Entender la elaboración de funciones"
      ]
    },
    {
      "cell_type": "markdown",
      "id": "001e54d2",
      "metadata": {
        "id": "001e54d2"
      },
      "source": [
        "[**Regresa al notebook principal**](https://github.com/seismomat/HerramientasComputacionales/blob/main/Sintaxis%2Ccomentarios%2CTiposDeDatos.ipynb)"
      ]
    },
    {
      "cell_type": "markdown",
      "id": "b76ffc8a",
      "metadata": {
        "id": "b76ffc8a"
      },
      "source": [
        "<a name='c1'></a>\n",
        "\n",
        "## Contenido\n",
        "\n",
        "- [Funciones](#1)\n",
        "    - [Declaración](#1-1)\n",
        "    - [Llamando funciones creadas](#1-2)\n",
        "- [Argumentos](#2)\n",
        "    - [¿Argumentos o parámetros?](#2-1)\n",
        "- [Número de argumentos](#3)\n",
        "    - [*args](#3-1)\n",
        "    - [Clave Arguments](#3-2)\n",
        "    - [**kwargs](#3-3)\n",
        "- [Parámetro default](#4)\n",
        "- [Pasando una estructura de datos como parámetros](#5)"
      ]
    },
    {
      "cell_type": "markdown",
      "id": "269975e0",
      "metadata": {
        "id": "269975e0"
      },
      "source": [
        "<a name='1'></a>\n",
        "\n",
        "# Funciones\n",
        "[regresar al contenido](#c1)\n",
        "\n",
        "Una función es un bloque de código que solo se ejecuta cuando se llama.\n",
        "\n",
        "Puedes pasar datos, conocidos como parámetros, a una función.\n",
        "\n",
        "Una función puede devolver datos como resultado."
      ]
    },
    {
      "cell_type": "markdown",
      "id": "fb9dfa06",
      "metadata": {
        "id": "fb9dfa06"
      },
      "source": [
        "<a name='1-1'></a>\n",
        "\n",
        "## Declaración\n",
        "[regresar al contenido](#c1)\n",
        "\n",
        "En Python, una función se define usando la palabra clave **def** seguido de dos puntos **:**"
      ]
    },
    {
      "cell_type": "code",
      "execution_count": 16,
      "id": "b516f0d1",
      "metadata": {
        "id": "b516f0d1",
        "colab": {
          "base_uri": "https://localhost:8080/"
        },
        "outputId": "2e7f0cd3-d09a-48ae-8885-b8cbf092a820"
      },
      "outputs": [
        {
          "output_type": "stream",
          "name": "stdout",
          "text": [
            "Hola, me llamo Jorge Carlos Aquino Sumuano\n",
            "Hola, me llamo Iván C \n"
          ]
        }
      ],
      "source": [
        "def mi_funcion(*NC):\n",
        "  print(\"Hola, me llamo \"+ NoC[0]+NoC[1]+ NoC[2]+NoC[3])\n",
        "NoC=['Jorge ','Carlos ','Aquino ','Sumuano']\n",
        "mi_funcion(NoC)\n",
        "\n",
        "def fun_2(nombre='Iván ', apellido='C '):\n",
        "  print(\"Hola, me llamo \"+ nombre+apellido)\n",
        "fun_2()"
      ]
    },
    {
      "cell_type": "code",
      "source": [
        "def mifuncion2(nombre=' J ',apellido=' S '):\n",
        "  NombreComp = nombre+ apellido\n",
        "  NombreComp1 = nombre+ apellido+'2'\n",
        "  return NombreComp,NombreComp1\n",
        "\n",
        "NomCom,NC=mi_funcion(nombre=' J ',apellido=' S ')\n",
        "print('Hola me llamo'+)"
      ],
      "metadata": {
        "colab": {
          "base_uri": "https://localhost:8080/",
          "height": 109
        },
        "id": "DmIbYe56e91W",
        "outputId": "47a661d1-daa5-47cf-c73b-cd56898b72b2"
      },
      "id": "DmIbYe56e91W",
      "execution_count": 19,
      "outputs": [
        {
          "output_type": "error",
          "ename": "SyntaxError",
          "evalue": "invalid syntax (<ipython-input-19-4e0b44b75382>, line 1)",
          "traceback": [
            "\u001b[0;36m  File \u001b[0;32m\"<ipython-input-19-4e0b44b75382>\"\u001b[0;36m, line \u001b[0;32m1\u001b[0m\n\u001b[0;31m    def_mifuncion2(nombre=' J ',apellido=' S '):\u001b[0m\n\u001b[0m                                               ^\u001b[0m\n\u001b[0;31mSyntaxError\u001b[0m\u001b[0;31m:\u001b[0m invalid syntax\n"
          ]
        }
      ]
    },
    {
      "cell_type": "code",
      "source": [
        "nom=input('Nombre ')\n",
        "ap=input('Apellido ')\n",
        "ed=float(input('Edad en número '))\n",
        "def func(nom,ap,ed):\n",
        "  print('Nombre: '+nom+'\\nApellido: '+ap+'\\nEdad: '+ed)\n",
        "  print(type(edad))\n",
        "func(nom,ap,ed)"
      ],
      "metadata": {
        "colab": {
          "base_uri": "https://localhost:8080/",
          "height": 361
        },
        "id": "6kTp9fo4jivq",
        "outputId": "5c889cc4-aadf-4558-f9f9-711bfcc19555"
      },
      "id": "6kTp9fo4jivq",
      "execution_count": 72,
      "outputs": [
        {
          "name": "stdout",
          "output_type": "stream",
          "text": [
            "Nombre e\n",
            "Apellido e\n",
            "Edad en número 3\n"
          ]
        },
        {
          "output_type": "error",
          "ename": "TypeError",
          "evalue": "can only concatenate str (not \"float\") to str",
          "traceback": [
            "\u001b[0;31m---------------------------------------------------------------------------\u001b[0m",
            "\u001b[0;31mTypeError\u001b[0m                                 Traceback (most recent call last)",
            "\u001b[0;32m<ipython-input-72-da2afc1aa6a0>\u001b[0m in \u001b[0;36m<cell line: 7>\u001b[0;34m()\u001b[0m\n\u001b[1;32m      5\u001b[0m   \u001b[0mprint\u001b[0m\u001b[0;34m(\u001b[0m\u001b[0;34m'Nombre: '\u001b[0m\u001b[0;34m+\u001b[0m\u001b[0mnom\u001b[0m\u001b[0;34m+\u001b[0m\u001b[0;34m'\\nApellido: '\u001b[0m\u001b[0;34m+\u001b[0m\u001b[0map\u001b[0m\u001b[0;34m+\u001b[0m\u001b[0;34m'\\nEdad: '\u001b[0m\u001b[0;34m+\u001b[0m\u001b[0med\u001b[0m\u001b[0;34m)\u001b[0m\u001b[0;34m\u001b[0m\u001b[0;34m\u001b[0m\u001b[0m\n\u001b[1;32m      6\u001b[0m   \u001b[0mprint\u001b[0m\u001b[0;34m(\u001b[0m\u001b[0mtype\u001b[0m\u001b[0;34m(\u001b[0m\u001b[0medad\u001b[0m\u001b[0;34m)\u001b[0m\u001b[0;34m)\u001b[0m\u001b[0;34m\u001b[0m\u001b[0;34m\u001b[0m\u001b[0m\n\u001b[0;32m----> 7\u001b[0;31m \u001b[0mfunc\u001b[0m\u001b[0;34m(\u001b[0m\u001b[0mnom\u001b[0m\u001b[0;34m,\u001b[0m\u001b[0map\u001b[0m\u001b[0;34m,\u001b[0m\u001b[0med\u001b[0m\u001b[0;34m)\u001b[0m\u001b[0;34m\u001b[0m\u001b[0;34m\u001b[0m\u001b[0m\n\u001b[0m",
            "\u001b[0;32m<ipython-input-72-da2afc1aa6a0>\u001b[0m in \u001b[0;36mfunc\u001b[0;34m(nom, ap, ed)\u001b[0m\n\u001b[1;32m      3\u001b[0m \u001b[0med\u001b[0m\u001b[0;34m=\u001b[0m\u001b[0mfloat\u001b[0m\u001b[0;34m(\u001b[0m\u001b[0minput\u001b[0m\u001b[0;34m(\u001b[0m\u001b[0;34m'Edad en número '\u001b[0m\u001b[0;34m)\u001b[0m\u001b[0;34m)\u001b[0m\u001b[0;34m\u001b[0m\u001b[0;34m\u001b[0m\u001b[0m\n\u001b[1;32m      4\u001b[0m \u001b[0;32mdef\u001b[0m \u001b[0mfunc\u001b[0m\u001b[0;34m(\u001b[0m\u001b[0mnom\u001b[0m\u001b[0;34m,\u001b[0m\u001b[0map\u001b[0m\u001b[0;34m,\u001b[0m\u001b[0med\u001b[0m\u001b[0;34m)\u001b[0m\u001b[0;34m:\u001b[0m\u001b[0;34m\u001b[0m\u001b[0;34m\u001b[0m\u001b[0m\n\u001b[0;32m----> 5\u001b[0;31m   \u001b[0mprint\u001b[0m\u001b[0;34m(\u001b[0m\u001b[0;34m'Nombre: '\u001b[0m\u001b[0;34m+\u001b[0m\u001b[0mnom\u001b[0m\u001b[0;34m+\u001b[0m\u001b[0;34m'\\nApellido: '\u001b[0m\u001b[0;34m+\u001b[0m\u001b[0map\u001b[0m\u001b[0;34m+\u001b[0m\u001b[0;34m'\\nEdad: '\u001b[0m\u001b[0;34m+\u001b[0m\u001b[0med\u001b[0m\u001b[0;34m)\u001b[0m\u001b[0;34m\u001b[0m\u001b[0;34m\u001b[0m\u001b[0m\n\u001b[0m\u001b[1;32m      6\u001b[0m   \u001b[0mprint\u001b[0m\u001b[0;34m(\u001b[0m\u001b[0mtype\u001b[0m\u001b[0;34m(\u001b[0m\u001b[0medad\u001b[0m\u001b[0;34m)\u001b[0m\u001b[0;34m)\u001b[0m\u001b[0;34m\u001b[0m\u001b[0;34m\u001b[0m\u001b[0m\n\u001b[1;32m      7\u001b[0m \u001b[0mfunc\u001b[0m\u001b[0;34m(\u001b[0m\u001b[0mnom\u001b[0m\u001b[0;34m,\u001b[0m\u001b[0map\u001b[0m\u001b[0;34m,\u001b[0m\u001b[0med\u001b[0m\u001b[0;34m)\u001b[0m\u001b[0;34m\u001b[0m\u001b[0;34m\u001b[0m\u001b[0m\n",
            "\u001b[0;31mTypeError\u001b[0m: can only concatenate str (not \"float\") to str"
          ]
        }
      ]
    },
    {
      "cell_type": "code",
      "source": [
        "def Datos(Nombre='Jesus', Apellido='Lucia',Edad=25):\n",
        "  if len(Nombre)>5:\n",
        "    print('No se acepta tu nombre')\n",
        "  else:\n",
        "    print('Se acepta tu nombre')\n",
        "    if type(Edad)==int:\n",
        "      print('Se acepta tu edad')\n",
        "      Presentación = 'Hola mi nombre es '+Nombre+' '+Apellido+' y tengo '+str(Edad)+ ' años'\n",
        "      return Presentación\n",
        "    else:\n",
        "      print('Tampoco se acepta tu edad')\n",
        "\n",
        "Datos(Nombre='Jesus', Apellido='Lucia',Edad=25)"
      ],
      "metadata": {
        "colab": {
          "base_uri": "https://localhost:8080/",
          "height": 72
        },
        "id": "_qVheSC2p-5e",
        "outputId": "d3c765cf-8fb2-40f3-893f-61f772c16e1e"
      },
      "id": "_qVheSC2p-5e",
      "execution_count": 88,
      "outputs": [
        {
          "output_type": "stream",
          "name": "stdout",
          "text": [
            "Se acepta tu nombre\n",
            "Se acepta tu edad\n"
          ]
        },
        {
          "output_type": "execute_result",
          "data": {
            "text/plain": [
              "'Hola mi nombre es Jesus Lucia y tengo 25 años'"
            ],
            "application/vnd.google.colaboratory.intrinsic+json": {
              "type": "string"
            }
          },
          "metadata": {},
          "execution_count": 88
        }
      ]
    },
    {
      "cell_type": "markdown",
      "id": "afa98fb0",
      "metadata": {
        "id": "afa98fb0"
      },
      "source": [
        "<a name='1-2'></a>\n",
        "\n",
        "## Llamando funciones creadas\n",
        "[regresar al contenido](#c1)\n",
        "\n",
        "Para llamar a una función, utiliza el nombre de la función seguido de paréntesis."
      ]
    },
    {
      "cell_type": "code",
      "execution_count": null,
      "id": "82370167",
      "metadata": {
        "id": "82370167",
        "outputId": "c98dafa9-72f9-4b95-f468-49b84e5825fd"
      },
      "outputs": [
        {
          "name": "stdout",
          "output_type": "stream",
          "text": [
            "Hola, te saludo desde la función\n"
          ]
        }
      ],
      "source": [
        "mi_funcion()"
      ]
    },
    {
      "cell_type": "markdown",
      "id": "d003deb7",
      "metadata": {
        "id": "d003deb7"
      },
      "source": [
        "<a name='2'></a>\n",
        "\n",
        "# Argumentos\n",
        "[regresar al contenido](#c1)\n",
        "\n",
        "La información puede ser pasada a las funciones como argumentos.\n",
        "\n",
        "Los argumentos se especifican después del nombre de la función, dentro de los paréntesis. Puedes agregar tantos argumentos como desees, simplemente sepáralos con comas.\n",
        "\n",
        "El siguiente ejemplo tiene una función con un argumento (fname). Cuando la función es llamada, pasamos un nombre propio, que es usado dentro de la función para imprimir el nombre completo."
      ]
    },
    {
      "cell_type": "code",
      "execution_count": null,
      "id": "a7c7c289",
      "metadata": {
        "id": "a7c7c289",
        "outputId": "4dcd0bbc-9c3d-4a5f-cdbe-e148b66905ae"
      },
      "outputs": [
        {
          "name": "stdout",
          "output_type": "stream",
          "text": [
            "Hola Iván te saludo desde la función\n"
          ]
        }
      ],
      "source": [
        "def mi_funcion_nueva(fname):\n",
        "    print(\"Hola \"+fname +\" te saludo desde la función\")\n",
        "\n",
        "mi_funcion_nueva(\"Iván\")"
      ]
    },
    {
      "cell_type": "markdown",
      "id": "859574f2",
      "metadata": {
        "id": "859574f2"
      },
      "source": [
        "<a name='2-1'></a>\n",
        "\n",
        "## ¿Argumentos o parámetros?\n",
        "[regresar al contenido](#c1)\n",
        "\n",
        "Los términos \"parámetro\" y \"argumento\" pueden ser usados para referirse a lo mismo: información que es pasada a una función."
      ]
    },
    {
      "cell_type": "markdown",
      "id": "bb842955",
      "metadata": {
        "id": "bb842955"
      },
      "source": [
        "Desde la perspectiva de una función:\n",
        "\n",
        "Un parámetro es la variable que se enumera dentro de los paréntesis en la definición de la función.\n",
        "\n",
        "Un argumento es el valor que se envía a la función cuando se llama a la misma."
      ]
    },
    {
      "cell_type": "markdown",
      "id": "334a05cf",
      "metadata": {
        "id": "334a05cf"
      },
      "source": [
        "<a name='3'></a>\n",
        "\n",
        "# Número de argumentos\n",
        "[regresar al contenido](#c1)"
      ]
    },
    {
      "cell_type": "markdown",
      "id": "bcb05f42",
      "metadata": {
        "id": "bcb05f42"
      },
      "source": [
        "Por defecto, una función debe ser llamada con el número correcto de argumentos. Esto significa que si tu función espera 2 argumentos, debes llamar a la función con 2 argumentos, ni más ni menos."
      ]
    },
    {
      "cell_type": "code",
      "execution_count": null,
      "id": "6c8e2357",
      "metadata": {
        "id": "6c8e2357",
        "outputId": "6bd9cf4f-e0e0-4d0d-b8de-d38207fbee8b"
      },
      "outputs": [
        {
          "name": "stdout",
          "output_type": "stream",
          "text": [
            "Hola Iván CC te saludo desde la función\n"
          ]
        }
      ],
      "source": [
        "def Nombre(fname,lname):\n",
        "    print(\"Hola \"+fname + \" \" + lname+ \" te saludo desde la función\")\n",
        "\n",
        "Nombre(\"Iván\",\"CC\")"
      ]
    },
    {
      "cell_type": "markdown",
      "id": "bbe2365c",
      "metadata": {
        "id": "bbe2365c"
      },
      "source": [
        "<a name='3-1'></a>\n",
        "\n",
        "## *args\n",
        "[regresar al contenido](#c1)\n",
        "\n",
        "Si no sabes cuántos argumentos se pasarán a tu función, agrega un * antes del nombre del parámetro en la definición de la función.\n",
        "\n",
        "De esta manera, la función recibirá una tupla de argumentos y podrá acceder a los elementos correspondientes."
      ]
    },
    {
      "cell_type": "code",
      "execution_count": null,
      "id": "f43db839",
      "metadata": {
        "id": "f43db839",
        "outputId": "c22c8e1a-339f-4a66-cb10-340104ac41d0"
      },
      "outputs": [
        {
          "name": "stdout",
          "output_type": "stream",
          "text": [
            "El niño menor es Linus\n"
          ]
        }
      ],
      "source": [
        "def mi_funcion(*kids):\n",
        "    print(\"El niño menor es \" + kids[2])\n",
        "\n",
        "mi_funcion(\"Emil\", \"Tobias\", \"Linus\")"
      ]
    },
    {
      "cell_type": "markdown",
      "id": "8083941e",
      "metadata": {
        "id": "8083941e"
      },
      "source": [
        "<a name='3-2'></a>\n",
        "\n",
        "## Clave Arguments\n",
        "[regresar al contenido](#c1)\n",
        "\n",
        "También puedes enviar argumentos utilizando la sintaxis clave = valor.\n",
        "\n",
        "De esta manera, el orden de los argumentos no importa."
      ]
    },
    {
      "cell_type": "code",
      "execution_count": null,
      "id": "90126d63",
      "metadata": {
        "id": "90126d63",
        "outputId": "98364e6b-5659-473b-ba0c-6c322fbcbc89"
      },
      "outputs": [
        {
          "name": "stdout",
          "output_type": "stream",
          "text": [
            "El niño menor es Linus\n"
          ]
        }
      ],
      "source": [
        "def mi_funcion(niño3,niño2,niño1):\n",
        "    print(\"El niño menor es \" + niño3)\n",
        "\n",
        "mi_funcion(niño1 = \"Emil\", niño2 = \"Tobias\", niño3 = \"Linus\")"
      ]
    },
    {
      "cell_type": "markdown",
      "id": "4cc48302",
      "metadata": {
        "id": "4cc48302"
      },
      "source": [
        "<a name='3-3'></a>\n",
        "\n",
        "## **kwargs\n",
        "[regresar al contenido](#c1)\n",
        "\n",
        "Si no sabes cuántos argumentos de palabras clave se pasarán a tu función, agrega dos asteriscos: ** antes del nombre del parámetro en la definición de la función.\n",
        "\n",
        "De esta manera, la función recibirá un diccionario de argumentos y podrá acceder a los elementos correspondientes."
      ]
    },
    {
      "cell_type": "code",
      "execution_count": null,
      "id": "49c0988b",
      "metadata": {
        "id": "49c0988b",
        "outputId": "13ce87ab-1caa-4e1e-f011-1f1a5428ca63"
      },
      "outputs": [
        {
          "name": "stdout",
          "output_type": "stream",
          "text": [
            "El apellido es Vapython\n"
          ]
        }
      ],
      "source": [
        "def mi_funcion(**chamaco):\n",
        "  print(\"El apellido es \" + chamaco[\"Ape\"])\n",
        "\n",
        "mi_funcion(nombre = \"Aquiles\", Ape = \"Vapython\")"
      ]
    },
    {
      "cell_type": "markdown",
      "id": "20082363",
      "metadata": {
        "id": "20082363"
      },
      "source": [
        "<a name='4'></a>\n",
        "\n",
        "# Parámetro default\n",
        "[regresar al contenido](#c1)\n",
        "\n",
        "El siguiente ejemplo muestra cómo usar un valor de parámetro predeterminado.\n",
        "\n",
        "Si llamamos a la función sin argumento, utiliza el valor predeterminado."
      ]
    },
    {
      "cell_type": "code",
      "execution_count": null,
      "id": "f7601487",
      "metadata": {
        "id": "f7601487",
        "outputId": "25266265-3337-464c-9ab9-2515764d3762"
      },
      "outputs": [
        {
          "name": "stdout",
          "output_type": "stream",
          "text": [
            "Yo soy de México\n"
          ]
        }
      ],
      "source": [
        "def mi_funcion(pais=\"México\"):\n",
        "    print(\"Yo soy de \"+ pais)\n",
        "\n",
        "mi_funcion()"
      ]
    },
    {
      "cell_type": "code",
      "execution_count": null,
      "id": "12e51c92",
      "metadata": {
        "id": "12e51c92",
        "outputId": "70d6a639-95b7-495d-e536-aef1ae315193"
      },
      "outputs": [
        {
          "name": "stdout",
          "output_type": "stream",
          "text": [
            "Yo soy de Alemania\n"
          ]
        }
      ],
      "source": [
        "mi_funcion(\"Alemania\")"
      ]
    },
    {
      "cell_type": "markdown",
      "id": "1ea1dd42",
      "metadata": {
        "id": "1ea1dd42"
      },
      "source": [
        "<a name='5'></a>\n",
        "\n",
        "# Pasando una estructura de datos como parámetros\n",
        "[regresar al contenido](#c1)\n",
        "\n",
        "Puedes enviar cualquier tipo de dato como argumento a una función (cadena, número, lista, diccionario, etc.), y se tratará como el mismo tipo de dato dentro de la función.\n",
        "\n",
        "Por ejemplo, si envías una lista como argumento, seguirá siendo una lista cuando llegue a la función."
      ]
    },
    {
      "cell_type": "code",
      "execution_count": null,
      "id": "bbb9aeba",
      "metadata": {
        "id": "bbb9aeba",
        "outputId": "95f55d15-4613-466e-f7f5-f739bc09552b"
      },
      "outputs": [
        {
          "name": "stdout",
          "output_type": "stream",
          "text": [
            "manzana\n",
            "banana\n",
            "mora\n"
          ]
        }
      ],
      "source": [
        "def mi_funcion(frutas):\n",
        "  for x in frutas:\n",
        "    print(x)\n",
        "\n",
        "frutas = [\"manzana\", \"banana\", \"mora\"]\n",
        "\n",
        "mi_funcion(frutas)"
      ]
    }
  ],
  "metadata": {
    "kernelspec": {
      "display_name": "Python 3 (ipykernel)",
      "language": "python",
      "name": "python3"
    },
    "language_info": {
      "codemirror_mode": {
        "name": "ipython",
        "version": 3
      },
      "file_extension": ".py",
      "mimetype": "text/x-python",
      "name": "python",
      "nbconvert_exporter": "python",
      "pygments_lexer": "ipython3",
      "version": "3.9.12"
    },
    "colab": {
      "provenance": [],
      "include_colab_link": true
    }
  },
  "nbformat": 4,
  "nbformat_minor": 5
}