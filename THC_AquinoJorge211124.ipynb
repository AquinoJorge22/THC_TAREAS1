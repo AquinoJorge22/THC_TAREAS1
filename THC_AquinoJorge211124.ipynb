{
  "nbformat": 4,
  "nbformat_minor": 0,
  "metadata": {
    "colab": {
      "provenance": [],
      "authorship_tag": "ABX9TyOMWoNNvN83qnnocu9X+Ku3",
      "include_colab_link": true
    },
    "kernelspec": {
      "name": "python3",
      "display_name": "Python 3"
    },
    "language_info": {
      "name": "python"
    }
  },
  "cells": [
    {
      "cell_type": "markdown",
      "metadata": {
        "id": "view-in-github",
        "colab_type": "text"
      },
      "source": [
        "<a href=\"https://colab.research.google.com/github/AquinoJorge22/THC_TAREAS1/blob/main/THC_AquinoJorge211124.ipynb\" target=\"_parent\"><img src=\"https://colab.research.google.com/assets/colab-badge.svg\" alt=\"Open In Colab\"/></a>"
      ]
    },
    {
      "cell_type": "code",
      "execution_count": 32,
      "metadata": {
        "id": "-lRha9vE_SZg"
      },
      "outputs": [],
      "source": [
        "import numpy as np\n",
        "import matplotlib.pyplot as plt\n",
        "import imageio.v2 as imageio"
      ]
    },
    {
      "cell_type": "code",
      "source": [
        "size = 103\n",
        "pos = round(size/2)\n",
        "B = np.zeros((size,size),dtype=int)\n",
        "B[pos,:]=1"
      ],
      "metadata": {
        "id": "fWgPChrx_iZi"
      },
      "execution_count": 33,
      "outputs": []
    },
    {
      "cell_type": "code",
      "source": [
        "class Automata2D:\n",
        "  def __init__(self, B, name, size):\n",
        "    self.B=B\n",
        "    self.name=name\n",
        "    self.size=len(self.B)\n",
        "    self.frames = []\n",
        "    self.nsteps = 2*self.size\n",
        "\n",
        "  def GameLife(self,cell,center):\n",
        "    sum=np.sum(cell)\n",
        "    if center==1:\n",
        "      if sum==2 or sum==3:\n",
        "        return 1\n",
        "      else:\n",
        "        return 0\n",
        "    else:\n",
        "      if sum==3:\n",
        "        return 1\n",
        "      else:\n",
        "        return 0\n",
        "\n",
        "  def plot(self,C):\n",
        "    fig,ax=plt.subplots(figsize=(8,6))\n",
        "    ax.imshow(C,animated=True,aspect='auto',cmap='gray')\n",
        "    ax.axis('off')\n",
        "    plt.close(fig)\n",
        "    fig.canvas.draw()\n",
        "    image=np.frombuffer(fig.canvas.tostring_rgb(),dtype='uint8')\n",
        "    image=image.reshape(fig.canvas.get_width_height()[::-1]+(3,))\n",
        "    return image\n",
        "\n",
        "  def Run(self):\n",
        "    C=np.zeros((self.size,self.size),dtype=int)\n",
        "\n",
        "    for k in range(self.nsteps):\n",
        "      A=np.copy(self.B)\n",
        "      C=np.copy(self.B)\n",
        "      self.frames.append(self.plot(C))\n",
        "      cell=np.zeros((8),dtype=int)\n",
        "      for i in range(2,self.size-1):\n",
        "        for j in range(2,self.size-1):\n",
        "          cell[0]=A[i-1,j-1];\n",
        "          cell[1]=A[i-1,j];\n",
        "          cell[2]=A[i-1,j+1];\n",
        "          cell[3]=A[i,j-1];\n",
        "          cell[4]=A[i,j+1];\n",
        "          cell[5]=A[i+1,j-1];\n",
        "          cell[6]=A[i+1,j];\n",
        "          cell[7]=A[i+1,j+1];\n",
        "          self.B[i,j]=self.GameLife(cell,A[i,j])\n",
        "\n",
        "  def save_video(self,filename='Automata2D.mp4',fps=10):\n",
        "    imageio.mimsave(filename,self.frames,fps=fps)\n",
        "    print('Video guardado como'+filename)\n"
      ],
      "metadata": {
        "id": "--VTVzD4_yDL"
      },
      "execution_count": 34,
      "outputs": []
    },
    {
      "cell_type": "code",
      "source": [
        "automata = Automata2D(B,'GameLife',size)\n",
        "automata.Run()\n",
        "automata.save_video()"
      ],
      "metadata": {
        "colab": {
          "base_uri": "https://localhost:8080/"
        },
        "id": "UAK4fCMnBuek",
        "outputId": "198fcdc0-55a7-432e-e6f4-4f4a60d91e32"
      },
      "execution_count": 35,
      "outputs": [
        {
          "output_type": "stream",
          "name": "stderr",
          "text": [
            "<ipython-input-34-8d0a91ecd3e6>:28: MatplotlibDeprecationWarning: The tostring_rgb function was deprecated in Matplotlib 3.8 and will be removed two minor releases later. Use buffer_rgba instead.\n",
            "  image=np.frombuffer(fig.canvas.tostring_rgb(),dtype='uint8')\n",
            "WARNING:imageio_ffmpeg:IMAGEIO FFMPEG_WRITER WARNING: input image is not divisible by macro_block_size=16, resizing from (800, 600) to (800, 608) to ensure video compatibility with most codecs and players. To prevent resizing, make your input image divisible by the macro_block_size or set the macro_block_size to 1 (risking incompatibility).\n"
          ]
        },
        {
          "output_type": "stream",
          "name": "stdout",
          "text": [
            "Video guardado comoAutomata2D.mp4\n"
          ]
        }
      ]
    }
  ]
}