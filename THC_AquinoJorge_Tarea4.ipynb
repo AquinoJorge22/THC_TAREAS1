{
  "cells": [
    {
      "cell_type": "markdown",
      "metadata": {
        "id": "view-in-github",
        "colab_type": "text"
      },
      "source": [
        "<a href=\"https://colab.research.google.com/github/AquinoJorge22/THC_TAREAS1/blob/main/THC_AquinoJorge_Tarea4.ipynb\" target=\"_parent\"><img src=\"https://colab.research.google.com/assets/colab-badge.svg\" alt=\"Open In Colab\"/></a>"
      ]
    },
    {
      "cell_type": "markdown",
      "metadata": {
        "id": "Acw5GbRohNTA"
      },
      "source": [
        "<font color=\"Red\" face=\"Comic Sans MS,arial\">\n",
        "  <h1 align=\"center\"><i>Tarea 4 de Python </i></h1>\n",
        "  </font>\n",
        "  \n",
        "> Elaborado por:\n",
        "\n",
        "> Miguel Ángel Carrillo Lucía. miguelcarrillo15@ciencias.unam.mx\n",
        "\n",
        "> Jesús Iván Coss Calderón. mat_ing_coss@ciencias.unam.mx"
      ]
    },
    {
      "cell_type": "markdown",
      "metadata": {
        "id": "-4IW6Nx2jBHt"
      },
      "source": [
        "**Objetivo general**\n",
        "\n",
        "* Demostrar los conocimientos adquiridos de bucles, listas y estructuras de control.\n",
        "\n",
        "**Objetivos particulares**\n",
        "\n",
        "* Aprender a resolver problemas prácticos usando python"
      ]
    },
    {
      "cell_type": "markdown",
      "metadata": {
        "id": "QZ7aCHF0TYtT"
      },
      "source": [
        "#**Ejercicio 1**:\n",
        "Diseña un programa que convierta dólares americanos a pesos mexicanos, euros, libras\n",
        "esterlinas, yuanes y rublos utilizando una tasa de cambio fija. Muestre la tasa de cambio e imprima los cinco resultados.\n"
      ]
    },
    {
      "cell_type": "code",
      "execution_count": null,
      "metadata": {
        "colab": {
          "base_uri": "https://localhost:8080/",
          "height": 495
        },
        "id": "o2Rh6UqDNIco",
        "outputId": "e948551e-6919-4008-a7d2-698367508497"
      },
      "outputs": [
        {
          "name": "stdout",
          "output_type": "stream",
          "text": [
            "Convertidor de divisas \n",
            "Divisas validas:\n",
            "Dólares americanos...(usd) \n",
            "Pesos mexicanos......(mxn) \n",
            "Euros................(eur)\n",
            "Libras esterlinas....(gbp) \n",
            "Yuanes...............(cny) \n",
            "Rublos...............(rub)\n"
          ]
        },
        {
          "ename": "KeyboardInterrupt",
          "evalue": "Interrupted by user",
          "output_type": "error",
          "traceback": [
            "\u001b[0;31m---------------------------------------------------------------------------\u001b[0m",
            "\u001b[0;31mKeyboardInterrupt\u001b[0m                         Traceback (most recent call last)",
            "\u001b[0;32m<ipython-input-2-1419af4f14bd>\u001b[0m in \u001b[0;36m<cell line: 5>\u001b[0;34m()\u001b[0m\n\u001b[1;32m      3\u001b[0m \u001b[0mprint\u001b[0m\u001b[0;34m(\u001b[0m\u001b[0;34m'Libras esterlinas....(gbp) \\nYuanes...............(cny) \\nRublos...............(rub)'\u001b[0m\u001b[0;34m)\u001b[0m \u001b[0;31m#dividí toda la presentación en 3 líneas para que no se viera tan feo\u001b[0m\u001b[0;34m\u001b[0m\u001b[0;34m\u001b[0m\u001b[0m\n\u001b[1;32m      4\u001b[0m \u001b[0;34m\u001b[0m\u001b[0m\n\u001b[0;32m----> 5\u001b[0;31m \u001b[0mdiv\u001b[0m \u001b[0;34m=\u001b[0m \u001b[0minput\u001b[0m\u001b[0;34m(\u001b[0m\u001b[0;34m'\\nIngrese la abreviatura de la divisa a convertir \\n'\u001b[0m\u001b[0;34m)\u001b[0m\u001b[0;34m\u001b[0m\u001b[0;34m\u001b[0m\u001b[0m\n\u001b[0m\u001b[1;32m      6\u001b[0m \u001b[0mcant\u001b[0m \u001b[0;34m=\u001b[0m \u001b[0mfloat\u001b[0m\u001b[0;34m(\u001b[0m\u001b[0minput\u001b[0m\u001b[0;34m(\u001b[0m\u001b[0;34m'Ingrese la cantidad a convertir \\n'\u001b[0m\u001b[0;34m)\u001b[0m\u001b[0;34m)\u001b[0m\u001b[0;34m\u001b[0m\u001b[0;34m\u001b[0m\u001b[0m\n\u001b[1;32m      7\u001b[0m \u001b[0;34m\u001b[0m\u001b[0m\n",
            "\u001b[0;32m/usr/local/lib/python3.10/dist-packages/ipykernel/kernelbase.py\u001b[0m in \u001b[0;36mraw_input\u001b[0;34m(self, prompt)\u001b[0m\n\u001b[1;32m    849\u001b[0m                 \u001b[0;34m\"raw_input was called, but this frontend does not support input requests.\"\u001b[0m\u001b[0;34m\u001b[0m\u001b[0;34m\u001b[0m\u001b[0m\n\u001b[1;32m    850\u001b[0m             )\n\u001b[0;32m--> 851\u001b[0;31m         return self._input_request(str(prompt),\n\u001b[0m\u001b[1;32m    852\u001b[0m             \u001b[0mself\u001b[0m\u001b[0;34m.\u001b[0m\u001b[0m_parent_ident\u001b[0m\u001b[0;34m,\u001b[0m\u001b[0;34m\u001b[0m\u001b[0;34m\u001b[0m\u001b[0m\n\u001b[1;32m    853\u001b[0m             \u001b[0mself\u001b[0m\u001b[0;34m.\u001b[0m\u001b[0m_parent_header\u001b[0m\u001b[0;34m,\u001b[0m\u001b[0;34m\u001b[0m\u001b[0;34m\u001b[0m\u001b[0m\n",
            "\u001b[0;32m/usr/local/lib/python3.10/dist-packages/ipykernel/kernelbase.py\u001b[0m in \u001b[0;36m_input_request\u001b[0;34m(self, prompt, ident, parent, password)\u001b[0m\n\u001b[1;32m    893\u001b[0m             \u001b[0;32mexcept\u001b[0m \u001b[0mKeyboardInterrupt\u001b[0m\u001b[0;34m:\u001b[0m\u001b[0;34m\u001b[0m\u001b[0;34m\u001b[0m\u001b[0m\n\u001b[1;32m    894\u001b[0m                 \u001b[0;31m# re-raise KeyboardInterrupt, to truncate traceback\u001b[0m\u001b[0;34m\u001b[0m\u001b[0;34m\u001b[0m\u001b[0m\n\u001b[0;32m--> 895\u001b[0;31m                 \u001b[0;32mraise\u001b[0m \u001b[0mKeyboardInterrupt\u001b[0m\u001b[0;34m(\u001b[0m\u001b[0;34m\"Interrupted by user\"\u001b[0m\u001b[0;34m)\u001b[0m \u001b[0;32mfrom\u001b[0m \u001b[0;32mNone\u001b[0m\u001b[0;34m\u001b[0m\u001b[0;34m\u001b[0m\u001b[0m\n\u001b[0m\u001b[1;32m    896\u001b[0m             \u001b[0;32mexcept\u001b[0m \u001b[0mException\u001b[0m \u001b[0;32mas\u001b[0m \u001b[0me\u001b[0m\u001b[0;34m:\u001b[0m\u001b[0;34m\u001b[0m\u001b[0;34m\u001b[0m\u001b[0m\n\u001b[1;32m    897\u001b[0m                 \u001b[0mself\u001b[0m\u001b[0;34m.\u001b[0m\u001b[0mlog\u001b[0m\u001b[0;34m.\u001b[0m\u001b[0mwarning\u001b[0m\u001b[0;34m(\u001b[0m\u001b[0;34m\"Invalid Message:\"\u001b[0m\u001b[0;34m,\u001b[0m \u001b[0mexc_info\u001b[0m\u001b[0;34m=\u001b[0m\u001b[0;32mTrue\u001b[0m\u001b[0;34m)\u001b[0m\u001b[0;34m\u001b[0m\u001b[0;34m\u001b[0m\u001b[0m\n",
            "\u001b[0;31mKeyboardInterrupt\u001b[0m: Interrupted by user"
          ]
        }
      ],
      "source": [
        "print('Convertidor de divisas \\nDivisas validas:') #presentación del programa\n",
        "print('Dólares americanos...(usd) \\nPesos mexicanos......(mxn) \\nEuros................(eur)') #divisas posibles\n",
        "print('Libras esterlinas....(gbp) \\nYuanes...............(cny) \\nRublos...............(rub)') #dividí toda la presentación en 3 líneas para que no se viera tan feo\n",
        "\n",
        "div = input('\\nIngrese la abreviatura de la divisa a convertir \\n')\n",
        "cant = float(input('Ingrese la cantidad a convertir \\n'))\n",
        "\n",
        "mx_u = cant/19.98\n",
        "er_u = cant/0.93\n",
        "li_u = cant/0.77   #convertimos todo a dolares para ahorrar variables\n",
        "y_u = cant/7.12\n",
        "r_u = cant/97.19\n",
        "\n",
        "def conv(n):\n",
        "  return lambda a : n*a  #definimos una funcion que convierta dolares a las diferentes divisas\n",
        "\n",
        "pes = conv(19.98)\n",
        "conveur = conv(0.93)  #como ya pasamos todo a dolares podemos solo evaluar de esta forma\n",
        "lib = conv(.77)\n",
        "yuan = conv(7.12)\n",
        "rublo = conv(97.19)\n",
        "\n",
        "if div == ('usd'): #al haber definido una funcion, nos permite simplemente ir reemplazando las variables\n",
        "  print(str(cant)+' usd es igual a:')\n",
        "  print(str(pes(cant))+' mxn \\n'+str(conveur(cant))+' eur')\n",
        "  print(str(lib(cant))+' gbp \\n'+str(yuan(cant))+' cny \\n'+str(rublo(cant))+' rub')\n",
        "\n",
        "elif div == ('mxn'):\n",
        "  print(str(cant)+' mxn es igual a:')\n",
        "  print(str(mx_u)+' usd \\n'+str(conveur(mx_u))+' eur \\n'+str(lib(mx_u))+' gbp')\n",
        "  print(str(yuan(mx_u))+' cny \\n'+str(rublo(mx_u))+' rub')\n",
        "\n",
        "elif div == ('eur'):\n",
        "  print(str(cant)+' eur es igual a:')\n",
        "  print(str(er_u)+' usd \\n'+str(pes(er_u))+' mxn \\n'+str(lib(er_u))+' gbp')\n",
        "  print(str(yuan(er_u))+' cny \\n'+str(rublo(er_u))+' rub')\n",
        "\n",
        "elif div == ('gbp'):\n",
        "  print(str(cant)+' gbp es igual a:')\n",
        "  print(str(li_u)+' usd \\n'+str(pes(li_u))+' mxn \\n'+str(conveur(li_u))+' eur')\n",
        "  print(str(yuan(li_u))+' cny \\n'+str(rublo(li_u))+' rub')\n",
        "\n",
        "elif div == ('cny'):\n",
        "  print(str(cant)+' cny es igual a:')\n",
        "  print(str(y_u)+' usd \\n'+str(pes(y_u))+' mxn \\n'+str(conveur(y_u))+' eur')\n",
        "  print(str(lib(y_u))+' gbp \\n'+str(rublo(y_u))+' rub')\n",
        "\n",
        "elif div == ('rub'):\n",
        "  print(str(cant)+' rub es igual a:')\n",
        "  print(str(r_u)+' usd \\n'+str(pes(r_u))+' mxn \\n'+str(conveur(r_u))+' eur')\n",
        "  print(str(lib(r_u))+' gbp \\n'+str(yuan(r_u))+' cny')\n",
        "\n",
        "else:\n",
        "  print('Divisa no válida')"
      ]
    },
    {
      "cell_type": "markdown",
      "metadata": {
        "id": "G-aCihICT7hi"
      },
      "source": [
        "#**Ejercicio 2**:\n",
        "Escribe un programa que pida al usuario su edad y clasifique la entrada en 'niño',\n",
        " 'adolescente', 'adulto' o 'adulto mayor'."
      ]
    },
    {
      "cell_type": "code",
      "execution_count": null,
      "metadata": {
        "colab": {
          "base_uri": "https://localhost:8080/"
        },
        "id": "LeEsrq4p8FOs",
        "outputId": "d8f2e2de-2f3f-4558-e2ca-37251385c3f3"
      },
      "outputs": [
        {
          "name": "stdout",
          "output_type": "stream",
          "text": [
            "Clasificador de edades\n",
            "Ingrese su edad en numero: \n",
            "100\n",
            "Adulto mayor\n"
          ]
        }
      ],
      "source": [
        "print('Clasificador de edades')\n",
        "edad = int(input('Ingrese su edad en numero: \\n'))\n",
        "if edad<13:\n",
        "  print('Niño')\n",
        "elif edad>=13 and edad<18:\n",
        "  print('Adolescente')\n",
        "elif edad>=18 and edad<60:\n",
        "  print('Adulto')\n",
        "elif edad>=60:\n",
        "  print('Adulto mayor')"
      ]
    },
    {
      "cell_type": "markdown",
      "metadata": {
        "id": "oM_h9APNTIW9"
      },
      "source": [
        "#**Ejercicio 3**:\n",
        "Desarrolla un programa que calcule el precio final de un producto después de aplicar un descuento.\n",
        " El usuario debe ingresar el precio original y el porcentaje de descuento. Imprima el precio final."
      ]
    },
    {
      "cell_type": "code",
      "execution_count": null,
      "metadata": {
        "colab": {
          "base_uri": "https://localhost:8080/"
        },
        "id": "ay0KWLXf8F5k",
        "outputId": "0b1fb8a9-6021-4a5d-84a0-2d853ce5972a"
      },
      "outputs": [
        {
          "name": "stdout",
          "output_type": "stream",
          "text": [
            "Calculadora de descuentos \n",
            "Ingrese el precio del producto \n",
            "200\n",
            "Ingrese el porcentaje de descuento. SIN SINGNO DE PORCENTAJE \n",
            "20\n",
            "El precio final es: \n",
            "160.0\n"
          ]
        }
      ],
      "source": [
        "pr = float(input('Calculadora de descuentos \\nIngrese el precio del producto \\n')) #presentacion del programa\n",
        "des1 = (100-float(input('Ingrese el porcentaje de descuento. SIN SINGNO DE PORCENTAJE \\n')))/100 #solicitamos el precio y descuento\n",
        "print('El precio final es: \\n'+str((pr*des1))) #imprimimos el resultado final"
      ]
    },
    {
      "cell_type": "markdown",
      "metadata": {
        "id": "pXTw_US7UIhy"
      },
      "source": [
        "#**Ejercicio 4**:\n",
        "Crea un script que determine cuál de tres números introducidos por el usuario es el mayor,\n",
        "usando sentencias IF anidadas o múltiples ELIF."
      ]
    },
    {
      "cell_type": "code",
      "execution_count": null,
      "metadata": {
        "colab": {
          "base_uri": "https://localhost:8080/"
        },
        "id": "oSJXRXBb8Gck",
        "outputId": "8ed22602-2c5c-45a7-e665-bb563dba84ba"
      },
      "outputs": [
        {
          "name": "stdout",
          "output_type": "stream",
          "text": [
            "Comparador de números\n",
            "Ingrese su primer número \n",
            "1\n",
            "Ingrese su segundo número \n",
            "1\n",
            "Ingrese su tercer número \n",
            "1\n",
            "Los tres numeros son iguales\n"
          ]
        }
      ],
      "source": [
        "print('Comparador de números')\n",
        "num1 = float(input('Ingrese su primer número \\n'))\n",
        "num2 = float(input('Ingrese su segundo número \\n')) #solicitamos los números\n",
        "num3 = float(input('Ingrese su tercer número \\n'))\n",
        "\n",
        "if (num1>num2>=num3 or num1>num3>=num2) or (num1==num2>num3 or num1==num3>num2): #comparamos las variables en todos los casos donde alguna sea la mayor\n",
        "  print(str(num1)+' es el mayor de los tres')\n",
        "elif (num2>num1>=num3 or num2>num3>=num1) or (num2==num1>num3 or num2==num3>num1):\n",
        "  print(str(num2)+' es el mayor de los tres')\n",
        "elif (num3>num1>=num2 or num3>num2>=num1) or (num3==num2>num1 or num3==num1>num2):\n",
        "  print(str(num3)+' es el mayor de los tres')\n",
        "elif num1==num2==num3:\n",
        "  print('Los tres numeros son iguales')"
      ]
    },
    {
      "cell_type": "markdown",
      "metadata": {
        "id": "LJgQNYz1Tmaj"
      },
      "source": [
        "#**Ejercicio 5**:\n",
        "Programe una función que resuelva ecuaciones de segundo grado utilizando la fórmula general.\n",
        "El usuario debe ingresar los valores de a, b y c. Genere valores por default por si el usuario no ingresa\n",
        "un número entero o flotante. Además, calcule el valor del discriminante\n",
        "(b^2 - 4ac) y determine si tiene soluciones reales, soluciones complejas. Imprima el resultado."
      ]
    },
    {
      "cell_type": "code",
      "execution_count": null,
      "metadata": {
        "colab": {
          "base_uri": "https://localhost:8080/"
        },
        "id": "vTWt-bjExAUN",
        "outputId": "3e5115f3-156d-4ab5-d7f5-8b20e40a879a"
      },
      "outputs": [
        {
          "name": "stdout",
          "output_type": "stream",
          "text": [
            "Calculadora de soluciones para ecuaciones de segundo grado de la forma ax^2 + bx + c = 0\n",
            " \n",
            "Ingrese los valores de a, b, c\n",
            "a: 1\n",
            "b: 1\n",
            "c: 1\n",
            "\n",
            "El discriminante es:\n",
            "-3.0\n",
            "\n",
            "Su ecuacion tiene soluciones imaginarias:\n",
            "\n",
            "x1=\n",
            "-0.5+(√3.0/2.0)i\n",
            " \n",
            "x2=\n",
            "-0.5+(√3.0/2.0)i\n"
          ]
        }
      ],
      "source": [
        "print('Calculadora de soluciones para ecuaciones de segundo grado de la forma ax^2 + bx + c = 0\\n \\nIngrese los valores de a, b, c')\n",
        "import numpy as np        #importamos np para poder sacar raices\n",
        "a = float(input('a: '))\n",
        "b = float(input('b: '))   #solicitamos a,b,c\n",
        "c = float(input('c: '))\n",
        "disc = (b**2)-(4*a*c)     #definimos el discriminante\n",
        "def rt(a,b,c):\n",
        "  return lambda d : (-b+d)/(2*a) #definimos la funcion de la formula general\n",
        "sol = rt(a,b,c)\n",
        "pos = sol(np.sqrt(abs(disc)))    #definimos la funcion para sumar o restar el discriminante\n",
        "neg = sol(-(np.sqrt(abs(disc))))\n",
        "print('\\nEl discriminante es:') #imprimimos el discriminante\n",
        "print(str(disc))\n",
        "if disc>=0:\n",
        "  if pos == neg:\n",
        "    print('\\nSolo hay una solucion:\\n \\nx1=')\n",
        "    print(str(pos))\n",
        "  else:\n",
        "    print('\\nLas soluciones son:\\n \\nx1=')\n",
        "    print(str(pos)+'\\n\\nx2=\\n'+str(neg))\n",
        "elif disc<0:\n",
        "  print('\\nSu ecuacion tiene soluciones imaginarias:\\n')\n",
        "  print('x1=')\n",
        "  print(str(-b/(2*a))+'+'+'(√'+str(-disc)+'/'+str(2*a)+')i\\n \\nx2=\\n'+str(-b/(2*a))+'+'+'(√'+str(-disc)+'/'+str(2*a)+')i')"
      ]
    },
    {
      "cell_type": "markdown",
      "metadata": {
        "id": "1VC6sG1wix_2"
      },
      "source": [
        "#**Ejercicio 6**\n",
        "\n",
        " Escriba una función que reciba una lista de números y devuelva dos listas: una con los números positivos y otra con los negativos."
      ]
    },
    {
      "cell_type": "code",
      "execution_count": null,
      "metadata": {
        "colab": {
          "base_uri": "https://localhost:8080/"
        },
        "id": "JAa-cURbDbjD",
        "outputId": "d36137a4-62eb-476b-eb3c-8cadd9f56917"
      },
      "outputs": [
        {
          "name": "stdout",
          "output_type": "stream",
          "text": [
            "Programa que clasifica números en positivos y negativos\n",
            "Ingrese sus números. Al terminar ingrese \"concluido\" EN MINÚSCULAS\n",
            "1\n",
            "Ingrese sus números. Al terminar ingrese \"concluido\" EN MINÚSCULAS\n",
            "2\n",
            "Ingrese sus números. Al terminar ingrese \"concluido\" EN MINÚSCULAS\n",
            "-1\n",
            "Ingrese sus números. Al terminar ingrese \"concluido\" EN MINÚSCULAS\n",
            "-2\n",
            "Ingrese sus números. Al terminar ingrese \"concluido\" EN MINÚSCULAS\n",
            "concluido\n",
            "\n",
            "Los números que ingresó fueron:\n",
            "['1', '2', '-1', '-2']\n",
            "\n",
            "Números positivos:\n",
            "['1', '2']\n",
            "\n",
            "Números negativos:\n",
            "['-1', '-2']\n"
          ]
        }
      ],
      "source": [
        "#version con funciones\n",
        "print('Programa que clasifica números en positivos y negativos') #presentacion del programa\n",
        "x=0\n",
        "nums=[]\n",
        "neg=[] #creamos tres listas vacias\n",
        "pos=[]\n",
        "def clasif(a):\n",
        "  nums.append(a)\n",
        "  if float(a)<0: #definimos la funcion que clasifica los numeros\n",
        "    neg.append(a)\n",
        "  elif float(a)>0:\n",
        "    pos.append(a)\n",
        "while x<1: #creamos un bucle para poder ingresar varios numeros\n",
        "  a = input('Ingrese sus números. Al terminar ingrese \"concluido\" EN MINÚSCULAS\\n')\n",
        "  if a != ('concluido'):\n",
        "    clasif(a) #aplicamos la funcion\n",
        "  else:\n",
        "    print('\\nLos números que ingresó fueron:\\n'+str(nums))\n",
        "    print('\\nNúmeros positivos:\\n'+str(pos)) #imprimimos los resultados\n",
        "    print('\\nNúmeros negativos:\\n'+str(neg))\n",
        "    x=1 #detenemos el bucle"
      ]
    },
    {
      "cell_type": "code",
      "execution_count": null,
      "metadata": {
        "id": "j-nKpLKG8HdU"
      },
      "outputs": [],
      "source": [
        "#version sin funcion\n",
        "print('Programa que clasifica números en positivos y negativos') #presentacion\n",
        "x = 0\n",
        "nums = []\n",
        "pos = [] #creamos las listas\n",
        "neg = []\n",
        "while x<1: #creamos un buccle para ingresar varios numeros\n",
        "  a = input('Ingrese un número. Al terminar ingrese \"concluido\" MINÚSCULAS\\n')\n",
        "  if a != ('concluido'):\n",
        "    nums.append(a)\n",
        "    if float(a)<0:\n",
        "      neg.append(a) #clasificamos los numeros\n",
        "    elif float(a)>0:\n",
        "      pos.append(a)\n",
        "  else:\n",
        "    print('\\nLos numeros que ingresó fueron: \\n'+str(nums))\n",
        "    print('\\nNúmeros positivos: \\n'+str(pos)) #imprimimos los resultados\n",
        "    print('\\nNúmeros negativos: \\n'+str(neg))\n",
        "    x=1 #detenemos el bucle"
      ]
    },
    {
      "cell_type": "markdown",
      "metadata": {
        "id": "B3DOqZgpjxMf"
      },
      "source": [
        "#**Ejercicio 7**\n",
        "\n",
        "Escriba una función que reciba una lista de datos (la de abajo) y devuelva listas con los datos filtrados. Este programa debe separar los datos en **int**, **str**, **bool**, **float**. **Hint**: use la función **append** para insertar datos en las listas."
      ]
    },
    {
      "cell_type": "code",
      "execution_count": 22,
      "metadata": {
        "id": "0HH0Debs8Joc"
      },
      "outputs": [],
      "source": [
        "Datos= [5, 2.4, \"hola\", 7, 10, 3.14,True,False, \"Hi\", 0, 0.265]# lista a usar\n",
        "enteros = []\n",
        "string = [] #creamos las listas\n",
        "bo = []\n",
        "flotantes = []\n",
        "def clastype(lis):\n",
        "  for i in lis:\n",
        "    if type(i)==int:\n",
        "      enteros.append(i)\n",
        "    elif type(i)==str: #clasificamos los elementos\n",
        "      string.append(i)\n",
        "    elif type(i)==bool:\n",
        "      bo.append(i)\n",
        "    elif type(i)==float:\n",
        "      flotantes.append(i)\n"
      ]
    },
    {
      "cell_type": "code",
      "execution_count": 23,
      "metadata": {
        "id": "0BzE778WUucm",
        "colab": {
          "base_uri": "https://localhost:8080/"
        },
        "outputId": "f6e25c5e-ae76-493b-9c02-7d7cfee64025"
      },
      "outputs": [
        {
          "output_type": "stream",
          "name": "stdout",
          "text": [
            "Ints: [5, 7, 10, 0]\n",
            "Strings: ['hola', 'Hi']\n",
            "Bools: [True, False]\n",
            "Floats: [2.4, 3.14, 0.265]\n"
          ]
        }
      ],
      "source": [
        "clastype(Datos)\n",
        "print('Ints: '+str(enteros))\n",
        "print('Strings: '+str(string)) #imprimimos los resultados\n",
        "print('Bools: '+str(bo))\n",
        "print('Floats: '+str(flotantes))"
      ]
    },
    {
      "cell_type": "markdown",
      "metadata": {
        "id": "Q7XYGpfGkuD4"
      },
      "source": [
        "#**Ejercicio 8**:\n",
        "\n",
        "Imprimir pirámide de asteriscos\n",
        "Descripción: Crea una función que imprima una pirámide de asteriscos usando bucles anidados, donde el número de niveles de la pirámide sea un valor dado."
      ]
    },
    {
      "cell_type": "code",
      "execution_count": 38,
      "metadata": {
        "id": "lKlZ67KRkXwn",
        "colab": {
          "base_uri": "https://localhost:8080/"
        },
        "outputId": "4ce391c0-a2e9-4909-9bac-2c1eeec6eae5"
      },
      "outputs": [
        {
          "output_type": "stream",
          "name": "stdout",
          "text": [
            "['*']\n",
            "['*', '*']\n",
            "['*', '*', '*']\n",
            "['*', '*', '*', '*']\n",
            "['*', '*', '*', '*', '*']\n"
          ]
        }
      ],
      "source": [
        "def piramide_asteriscos(niveles):\n",
        "  lin=[] #creo una lita vacia para que en cada ciclo se le agregue un asterisco\n",
        "  for i in range(niveles):\n",
        "    lin.append('*')\n",
        "    print(lin)\n",
        "\n",
        "\n",
        "piramide_asteriscos(5)\n",
        "# Resultado:\n",
        "# *\n",
        "# **\n",
        "# ***\n",
        "# ****\n",
        "# *****\n"
      ]
    },
    {
      "cell_type": "markdown",
      "metadata": {
        "id": "xL6YMsdClOy9"
      },
      "source": [
        "#**Ejercicio 9**:\n",
        "\n",
        "Escriba una función que calcule el factorial de un número, el cual debe ser ingresado por el usuario, después usted debe validar que sea un número natural mayor o igual a cero y en caso de que ingrese un número negativo, una letra o cadena, debe pedir nuevamente el número al usuario."
      ]
    },
    {
      "cell_type": "code",
      "execution_count": 39,
      "metadata": {
        "id": "JYhyNp21l43j",
        "colab": {
          "base_uri": "https://localhost:8080/"
        },
        "outputId": "b1e355bb-8ca6-49f4-e6c2-1285ce6897fc"
      },
      "outputs": [
        {
          "output_type": "stream",
          "name": "stdout",
          "text": [
            "120\n"
          ]
        }
      ],
      "source": [
        "def fact(a):\n",
        "  n = 1\n",
        "  for i in range(a):\n",
        "    n = n*(i+1)    #aqui lo mas importante es actualizar los valores de n\n",
        "  print(n)\n",
        "\n",
        "fact(5)"
      ]
    },
    {
      "cell_type": "markdown",
      "metadata": {
        "id": "8z6e_aduTxWh"
      },
      "source": [
        "#**Ejercicio 10**:\n",
        "Programar una función que calcule la distancia entre dos puntos en el plano cartesiano,\n",
        "dadas sus coordenadas (x1, y1) y (x2, y2)."
      ]
    },
    {
      "cell_type": "code",
      "execution_count": 49,
      "metadata": {
        "id": "rKes7ySm8LJy",
        "colab": {
          "base_uri": "https://localhost:8080/"
        },
        "outputId": "1f8fa357-d311-4165-c0b3-c944ee084438"
      },
      "outputs": [
        {
          "output_type": "stream",
          "name": "stdout",
          "text": [
            "Ingrese la coordenada x del primer punto\n",
            "2\n",
            "Ingrese la coordenada y del primer punto\n",
            "2\n",
            "Ingrese la coordenada x del segundo punto\n",
            "3\n",
            "Ingrese la coordenada y del segundo punto\n",
            "2\n",
            "1.0\n"
          ]
        }
      ],
      "source": [
        "import numpy as np\n",
        "def dist(x1,y1,x2,y2):\n",
        "  d = np.sqrt((x2-x1)**2+(y2-y1)**2) #use la formula para distancias\n",
        "  print(d)\n",
        "\n",
        "x1=float(input('Ingrese la coordenada x del primer punto\\n'))\n",
        "y1=float(input('Ingrese la coordenada y del primer punto\\n')) #solicitamos las coordenadas\n",
        "x2=float(input('Ingrese la coordenada x del segundo punto\\n'))\n",
        "y2=float(input('Ingrese la coordenada y del segundo punto\\n'))\n",
        "dist(x1,y1,x2,y2) #aplicamos la funcion"
      ]
    },
    {
      "cell_type": "markdown",
      "metadata": {
        "id": "YZ1CmeGNUfd6"
      },
      "source": [
        "#**Ejercicio 11**:\n",
        "Programe un script que determine si dos rectas dadas por las ecuaciones y1=m1x + b1 y y2=m2x+b2 se\n",
        "intersectan, son paralelas o coincidentes. Utilice estructuras de control (IF - ELSE)\n",
        "para manejar los diferentes casos.\n"
      ]
    },
    {
      "cell_type": "code",
      "execution_count": 77,
      "metadata": {
        "id": "oTNVz98W8LuZ",
        "colab": {
          "base_uri": "https://localhost:8080/",
          "height": 297
        },
        "outputId": "84c0ff7d-d755-4dca-aa7e-a81a864dab51"
      },
      "outputs": [
        {
          "name": "stdout",
          "output_type": "stream",
          "text": [
            "Programa para saber si dos rectas son paralelas, coincidentes o si se intersectan en un punto\n",
            "m11\n",
            "b10\n",
            "m24\n",
            "b2-2\n"
          ]
        },
        {
          "output_type": "error",
          "ename": "KeyboardInterrupt",
          "evalue": "",
          "traceback": [
            "\u001b[0;31m---------------------------------------------------------------------------\u001b[0m",
            "\u001b[0;31mKeyboardInterrupt\u001b[0m                         Traceback (most recent call last)",
            "\u001b[0;32m<ipython-input-77-5e74caf40394>\u001b[0m in \u001b[0;36m<cell line: 20>\u001b[0;34m()\u001b[0m\n\u001b[1;32m     23\u001b[0m     \u001b[0mlin1neg\u001b[0m \u001b[0;34m=\u001b[0m \u001b[0mrecta1\u001b[0m\u001b[0;34m(\u001b[0m\u001b[0;34m-\u001b[0m\u001b[0mi\u001b[0m\u001b[0;34m)\u001b[0m\u001b[0;34m\u001b[0m\u001b[0;34m\u001b[0m\u001b[0m\n\u001b[1;32m     24\u001b[0m     \u001b[0mlin2neg\u001b[0m \u001b[0;34m=\u001b[0m \u001b[0mrecta2\u001b[0m\u001b[0;34m(\u001b[0m\u001b[0;34m-\u001b[0m\u001b[0mi\u001b[0m\u001b[0;34m)\u001b[0m\u001b[0;34m\u001b[0m\u001b[0;34m\u001b[0m\u001b[0m\n\u001b[0;32m---> 25\u001b[0;31m     \u001b[0;32mif\u001b[0m \u001b[0mlin1\u001b[0m\u001b[0;34m==\u001b[0m\u001b[0mlin2\u001b[0m\u001b[0;34m:\u001b[0m\u001b[0;34m\u001b[0m\u001b[0;34m\u001b[0m\u001b[0m\n\u001b[0m\u001b[1;32m     26\u001b[0m       \u001b[0ma\u001b[0m\u001b[0;34m=\u001b[0m\u001b[0;36m1\u001b[0m\u001b[0;34m\u001b[0m\u001b[0;34m\u001b[0m\u001b[0m\n\u001b[1;32m     27\u001b[0m       \u001b[0mprint\u001b[0m\u001b[0;34m(\u001b[0m\u001b[0;34m'Se intersectan en el punto q=('\u001b[0m\u001b[0;34m+\u001b[0m\u001b[0mstr\u001b[0m\u001b[0;34m(\u001b[0m\u001b[0mi\u001b[0m\u001b[0;34m)\u001b[0m\u001b[0;34m+\u001b[0m\u001b[0;34m','\u001b[0m\u001b[0;34m+\u001b[0m\u001b[0mstr\u001b[0m\u001b[0;34m(\u001b[0m\u001b[0mlin1\u001b[0m\u001b[0;34m)\u001b[0m\u001b[0;34m+\u001b[0m\u001b[0;34m')'\u001b[0m\u001b[0;34m)\u001b[0m\u001b[0;34m\u001b[0m\u001b[0;34m\u001b[0m\u001b[0m\n",
            "\u001b[0;31mKeyboardInterrupt\u001b[0m: "
          ]
        }
      ],
      "source": [
        "print('Programa para saber si dos rectas son paralelas, coincidentes o si se intersectan en un punto')\n",
        "\n",
        "def ec(m,b):\n",
        "    return lambda x: m*x+b\n",
        "m1 = float(input('m1'))\n",
        "b1 = float(input('b1'))\n",
        "m2 = float(input('m2'))\n",
        "b2 = float(input('b2'))\n",
        "\n",
        "a=0\n",
        "b=1\n",
        "i=0.0\n",
        "recta1 = ec(m1,b1)\n",
        "recta2 = ec(m2,b2)\n",
        "\n",
        "if m1==m2 and b1!=b2:\n",
        "    print('Las rectas son paralelas')         #aqui puse los criterios para que sean paralelas o iguales\n",
        "elif m1==m2 and b1==b2:\n",
        "    print('Las rectas son coincidentes')\n",
        "else:\n",
        "  while a<b:\n",
        "      lin1 = recta1(i)\n",
        "      lin2 = recta2(i)\n",
        "      lin1neg = recta1(-i)\n",
        "      lin2neg = recta2(-i)\n",
        "      if lin1==lin2:\n",
        "        a=1\n",
        "        print('Se intersectan en el punto q=('+str(i)+','+str(lin1)+')')\n",
        "      elif lin1neg==lin2neg:\n",
        "        a=1\n",
        "        print('Se intersectan en el punto q=('+str(-i)+','+str(lin1neg)+')')\n",
        "      else:\n",
        "        i = i + 1\n",
        "\n",
        "#de este programa no estoy muy seguro, no funciona bien para intersecciones con decimales"
      ]
    },
    {
      "cell_type": "code",
      "source": [
        "print('Programa para saber si dos rectas son paralelas, coincidentes o si se intersectan en un punto')\n",
        "import numpy as np\n",
        "def ec(m,b):\n",
        "    return lambda x: m*x+b\n",
        "m1 = float(input('Ingrese el valor de m1: '))\n",
        "b1 = float(input('Ingrese el valor de b1: '))\n",
        "m2 = float(input('Ingrese el valor de m2: '))\n",
        "b2 = float(input('Ingrese el valor de b2: '))\n",
        "2\n",
        "recta1 = ec(m1,b1)\n",
        "recta2 = ec(m2,b2)\n",
        "A = np.matrix([[m1,-1],[m2,-1]]) #aqui investigue sobre como resolver sistemas de ecuaciones\n",
        "B = np.matrix([[-b1],[-b2]])\n",
        "\n",
        "if m1==m2 and b1!=b2:\n",
        "  print('Las rectas son paralelas')\n",
        "elif m1==m2 and b1==b2:                   #aqui puse los criterios para que sean paralelas o iguales\n",
        "  print('Las rectas son coincidentes')\n",
        "else:\n",
        "  print('Se intersectan en:'+str(A**(-1)*B))"
      ],
      "metadata": {
        "colab": {
          "base_uri": "https://localhost:8080/"
        },
        "id": "b8W14O0hh-Bj",
        "outputId": "f6182d76-926b-467c-e877-492d484e9f01"
      },
      "execution_count": 87,
      "outputs": [
        {
          "output_type": "stream",
          "name": "stdout",
          "text": [
            "Programa para saber si dos rectas son paralelas, coincidentes o si se intersectan en un punto\n",
            "Ingrese el valor de m1: 1\n",
            "Ingrese el valor de b1: 0\n",
            "Ingrese el valor de m2: 2\n",
            "Ingrese el valor de b2: 2\n",
            "Se intersectan en:[[-2.]\n",
            " [-2.]]\n"
          ]
        }
      ]
    },
    {
      "cell_type": "code",
      "source": [
        "import numpy as np\n",
        "A = np.matrix([[2,-1],[1,-1]])\n",
        "B = np.matrix([[-2],[0]])\n",
        "X = A**(-1)*B\n",
        "X"
      ],
      "metadata": {
        "colab": {
          "base_uri": "https://localhost:8080/"
        },
        "id": "8PoQA3K4ixmn",
        "outputId": "b4d0fcb0-fcdd-4515-ade6-c7b09e654381"
      },
      "execution_count": 83,
      "outputs": [
        {
          "output_type": "execute_result",
          "data": {
            "text/plain": [
              "matrix([[-2.],\n",
              "        [-2.]])"
            ]
          },
          "metadata": {},
          "execution_count": 83
        }
      ]
    },
    {
      "cell_type": "markdown",
      "metadata": {
        "id": "qdHirPx6I2ib"
      },
      "source": [
        "#**Ejercicio 12**:\n",
        "Iván y Miguel quieren jugar a los dados con las siguientes reglas:\n",
        "\n",
        "    Si sale 1, vuelven a lanzar.\n",
        "    Si sale 6, quedan empatados.\n",
        "    Si sale 2 ó 3 gana Iván.\n",
        "    Si sale 4 ó 5 gana Miguel.\n",
        "\n",
        "Haga un programa que le permita jugar a Iván y Miguel utilizando el condicional while. Se debe imprimir el mensaje de acuerdo a las reglas establecidas.\n",
        "**Hint** = Utilice la librería random para generar los números aleatorios."
      ]
    },
    {
      "cell_type": "code",
      "execution_count": 97,
      "metadata": {
        "id": "dDHP_-CG8Nqg",
        "colab": {
          "base_uri": "https://localhost:8080/"
        },
        "outputId": "222b5f09-b7ce-4c1b-c221-b2a3819a84fe"
      },
      "outputs": [
        {
          "output_type": "stream",
          "name": "stdout",
          "text": [
            "Salió 1\n",
            "Vuelvan a lanzar\n"
          ]
        }
      ],
      "source": [
        "import numpy as np\n",
        "x = np.random.randint(1,7)\n",
        "print('Salió '+str(x)) #imprimimos el resultado\n",
        "if x==1:\n",
        "  print('Vuelvan a lanzar')\n",
        "elif x==6:\n",
        "  print('Están empatados') #vemos quien gana segun el resultado\n",
        "elif x==2 or x==3:\n",
        "  print('Gana Iván')\n",
        "elif x==4 or x==5:\n",
        "  print('Gana Miguel')"
      ]
    }
  ],
  "metadata": {
    "colab": {
      "provenance": [],
      "include_colab_link": true
    },
    "kernelspec": {
      "display_name": "Python 3",
      "name": "python3"
    },
    "language_info": {
      "name": "python"
    }
  },
  "nbformat": 4,
  "nbformat_minor": 0
}