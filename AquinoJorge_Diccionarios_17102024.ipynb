{
  "cells": [
    {
      "cell_type": "markdown",
      "metadata": {
        "id": "view-in-github",
        "colab_type": "text"
      },
      "source": [
        "<a href=\"https://colab.research.google.com/github/AquinoJorge22/THC_TAREAS1/blob/main/AquinoJorge_Diccionarios_17102024.ipynb\" target=\"_parent\"><img src=\"https://colab.research.google.com/assets/colab-badge.svg\" alt=\"Open In Colab\"/></a>"
      ]
    },
    {
      "cell_type": "markdown",
      "id": "0598806e",
      "metadata": {
        "id": "0598806e"
      },
      "source": [
        "<font color=\"Red\" face=\"Comic Sans MS,arial\">\n",
        "  <h1 align=\"center\"><i>Diccionarios </i></h1>\n",
        "  </font>\n",
        "  \n",
        "> Elaborado por: Jesús Iván Coss Calderón. mat_ing_coss@ciencias.unam.mx"
      ]
    },
    {
      "cell_type": "markdown",
      "id": "892493c5",
      "metadata": {
        "id": "892493c5"
      },
      "source": [
        "**Objetivo general**\n",
        "\n",
        "* Aprender los fundamentos de la estructura de datos conocida como diccionarios\n",
        "\n",
        "**Objetivos particulares**\n",
        "\n",
        "* Entender los métodos de la clase diccionarios"
      ]
    },
    {
      "cell_type": "markdown",
      "id": "d761ef5e",
      "metadata": {
        "id": "d761ef5e"
      },
      "source": [
        "[**Regresa al notebook principal**](https://github.com/seismomat/HerramientasComputacionales/blob/main/Sintaxis%2Ccomentarios%2CTiposDeDatos.ipynb)"
      ]
    },
    {
      "cell_type": "markdown",
      "id": "bba08db4",
      "metadata": {
        "id": "bba08db4"
      },
      "source": [
        "<a name='c1'></a>\n",
        "\n",
        "## Contenido\n",
        "\n",
        "- [Diccionarios](#1)\n",
        "    - [Declaración](#1-1)\n",
        "    - [Tipo de dato o clase](#1-2)\n",
        "    - [Método Keys()](#1-3)\n",
        "    - [Método Values()](#1-4)\n",
        "    - [Método de acceso a elementos](#1-5)\n",
        "    - [Agregar elementos](#1-6)\n",
        "- [Ejemplo](#2)\n",
        "- [Tipos de datos en un diccionario](#3)\n",
        "- [Pasar valores de un diccionario a una lista](#4)\n",
        "- [Utilidad de los diccionarios](#5)\n",
        "- [Ejercicios propuestos](#6)"
      ]
    },
    {
      "cell_type": "markdown",
      "id": "fa9de960",
      "metadata": {
        "id": "fa9de960"
      },
      "source": [
        "<a name='1'></a>\n",
        "\n",
        "# Diccionarios\n",
        "[regresar al contenido](#c1)\n",
        "\n",
        "\n",
        "Un diccionario en Python es una estructura de datos que almacena elementos en pares clave-valor, donde cada clave es única y está asociada a un valor específico. Los diccionarios son muy útiles para representar colecciones de datos en las que necesitas acceder a los elementos por su clave en lugar de por su posición, como lo harías en una lista.\n"
      ]
    },
    {
      "cell_type": "code",
      "source": [
        "dic = {}#diccionario vacio\n"
      ],
      "metadata": {
        "id": "M7ZZrgqAwkek"
      },
      "id": "M7ZZrgqAwkek",
      "execution_count": 17,
      "outputs": []
    },
    {
      "cell_type": "code",
      "source": [
        "dic = {\n",
        "    'llave1': 5,\n",
        "    'llave2': 'valor2',\n",
        "    'llave3': [1,2,3],\n",
        "    'llave4': True,\n",
        "}\n",
        "print(dic)\n",
        "li=list(dic.keys())\n",
        "print(li)\n",
        "val=list(dic.values())\n",
        "print(val)\n",
        "print(val[0])\n",
        "print(len(val))\n",
        "print(len(val[1]),val[1],type(val[1]))"
      ],
      "metadata": {
        "colab": {
          "base_uri": "https://localhost:8080/"
        },
        "id": "4MZHh1Wtw8C7",
        "outputId": "b4932a33-17a3-44d4-807f-f2eaa3133140"
      },
      "id": "4MZHh1Wtw8C7",
      "execution_count": 18,
      "outputs": [
        {
          "output_type": "stream",
          "name": "stdout",
          "text": [
            "{'llave1': 5, 'llave2': 'valor2', 'llave3': [1, 2, 3], 'llave4': True}\n",
            "['llave1', 'llave2', 'llave3', 'llave4']\n",
            "[5, 'valor2', [1, 2, 3], True]\n",
            "5\n",
            "4\n",
            "6 valor2 <class 'str'>\n"
          ]
        }
      ]
    },
    {
      "cell_type": "code",
      "source": [
        "dic['llave1']\n",
        "dic['llave3']"
      ],
      "metadata": {
        "colab": {
          "base_uri": "https://localhost:8080/"
        },
        "id": "MTMxsOOw2xtX",
        "outputId": "fd7e5d31-fe7d-44a0-dc60-5334d1965dfd"
      },
      "id": "MTMxsOOw2xtX",
      "execution_count": 19,
      "outputs": [
        {
          "output_type": "execute_result",
          "data": {
            "text/plain": [
              "[1, 2, 3]"
            ]
          },
          "metadata": {},
          "execution_count": 19
        }
      ]
    },
    {
      "cell_type": "code",
      "source": [
        "dic['llave6']={\n",
        "    'L1':5,'L2':54\n",
        "}\n",
        "dic"
      ],
      "metadata": {
        "colab": {
          "base_uri": "https://localhost:8080/"
        },
        "id": "uwk3zpMO3RLS",
        "outputId": "c96e6eb5-588a-4063-8fd0-433bbaf18ec1"
      },
      "id": "uwk3zpMO3RLS",
      "execution_count": 20,
      "outputs": [
        {
          "output_type": "execute_result",
          "data": {
            "text/plain": [
              "{'llave1': 5,\n",
              " 'llave2': 'valor2',\n",
              " 'llave3': [1, 2, 3],\n",
              " 'llave4': True,\n",
              " 'llave6': {'L1': 5, 'L2': 54}}"
            ]
          },
          "metadata": {},
          "execution_count": 20
        }
      ]
    },
    {
      "cell_type": "code",
      "source": [
        "import pandas as pd\n",
        "datos= {\n",
        "    'Nombre': ['Juan', 'Maria', 'Pedro', 'Luisa'],\n",
        "    'Edad': [25,28,22,30],\n",
        "    'Ciudad': ['Madrid','Valencia','Barcelona','Sevilla']\n",
        "}\n",
        "dataframe = pd.DataFrame(datos)\n",
        "dataframe.to_csv('DatosDic.csv')"
      ],
      "metadata": {
        "id": "w7JIJkzZ3ssX"
      },
      "id": "w7JIJkzZ3ssX",
      "execution_count": 37,
      "outputs": []
    },
    {
      "cell_type": "markdown",
      "source": [
        "Ejercicio"
      ],
      "metadata": {
        "id": "fzw8Z7nV6nOz"
      },
      "id": "fzw8Z7nV6nOz"
    },
    {
      "cell_type": "code",
      "source": [
        "import pandas as pd\n",
        "datosgente= {\n",
        "    'Nombre': ['Jorge', 'Carlos', 'Karla', 'Santiago', 'Guadalupe', 'Roberto'],\n",
        "    'Ocupación': ['Estudiante','Trabajador', 'Desempleado','Estudiante', 'Trabajador','Estudiante'],\n",
        "    'Estado civil': ['Viudo','Casado','Soltero','Sin datos','Casado', 'Soltero']\n",
        "}\n",
        "dataframe = pd.DataFrame(datosgente)\n",
        "dataframe.to_csv('DatosDic2.csv')"
      ],
      "metadata": {
        "id": "Q-yQAs5I6xgT"
      },
      "id": "Q-yQAs5I6xgT",
      "execution_count": 38,
      "outputs": []
    },
    {
      "cell_type": "code",
      "source": [
        "import pandas as pd\n",
        "daterror= {\n",
        "    'Nombre': ['Jorge', 'Carlos', 'Karla', 'Santiago', 'Guadalupe', 'Roberto'],\n",
        "    'Ocupación': ['Estudiante','Trabajador', 'Desempleado','Estudiante', 'Trabajador','Estudiante'],\n",
        "    'Estado civil': ['Casado','Soltero','Sin datos','Casado', 'Soltero']\n",
        "}\n",
        "dataframe = pd.DataFrame(daterror)\n",
        "dataframe.to_csv('DatosConError.csv')"
      ],
      "metadata": {
        "colab": {
          "base_uri": "https://localhost:8080/",
          "height": 367
        },
        "id": "bftXLso98EGP",
        "outputId": "8b5d27db-6f8a-4d68-d32a-fcc82fd120aa"
      },
      "id": "bftXLso98EGP",
      "execution_count": 42,
      "outputs": [
        {
          "output_type": "error",
          "ename": "ValueError",
          "evalue": "All arrays must be of the same length",
          "traceback": [
            "\u001b[0;31m---------------------------------------------------------------------------\u001b[0m",
            "\u001b[0;31mValueError\u001b[0m                                Traceback (most recent call last)",
            "\u001b[0;32m<ipython-input-42-b8f525aa33fa>\u001b[0m in \u001b[0;36m<cell line: 7>\u001b[0;34m()\u001b[0m\n\u001b[1;32m      5\u001b[0m     \u001b[0;34m'Estado civil'\u001b[0m\u001b[0;34m:\u001b[0m \u001b[0;34m[\u001b[0m\u001b[0;34m'Casado'\u001b[0m\u001b[0;34m,\u001b[0m\u001b[0;34m'Soltero'\u001b[0m\u001b[0;34m,\u001b[0m\u001b[0;34m'Sin datos'\u001b[0m\u001b[0;34m,\u001b[0m\u001b[0;34m'Casado'\u001b[0m\u001b[0;34m,\u001b[0m \u001b[0;34m'Soltero'\u001b[0m\u001b[0;34m]\u001b[0m\u001b[0;34m\u001b[0m\u001b[0;34m\u001b[0m\u001b[0m\n\u001b[1;32m      6\u001b[0m }\n\u001b[0;32m----> 7\u001b[0;31m \u001b[0mdataframe\u001b[0m \u001b[0;34m=\u001b[0m \u001b[0mpd\u001b[0m\u001b[0;34m.\u001b[0m\u001b[0mDataFrame\u001b[0m\u001b[0;34m(\u001b[0m\u001b[0mdaterror\u001b[0m\u001b[0;34m)\u001b[0m\u001b[0;34m\u001b[0m\u001b[0;34m\u001b[0m\u001b[0m\n\u001b[0m\u001b[1;32m      8\u001b[0m \u001b[0mdataframe\u001b[0m\u001b[0;34m.\u001b[0m\u001b[0mto_csv\u001b[0m\u001b[0;34m(\u001b[0m\u001b[0;34m'DatosConError.csv'\u001b[0m\u001b[0;34m)\u001b[0m\u001b[0;34m\u001b[0m\u001b[0;34m\u001b[0m\u001b[0m\n",
            "\u001b[0;32m/usr/local/lib/python3.10/dist-packages/pandas/core/frame.py\u001b[0m in \u001b[0;36m__init__\u001b[0;34m(self, data, index, columns, dtype, copy)\u001b[0m\n\u001b[1;32m    776\u001b[0m         \u001b[0;32melif\u001b[0m \u001b[0misinstance\u001b[0m\u001b[0;34m(\u001b[0m\u001b[0mdata\u001b[0m\u001b[0;34m,\u001b[0m \u001b[0mdict\u001b[0m\u001b[0;34m)\u001b[0m\u001b[0;34m:\u001b[0m\u001b[0;34m\u001b[0m\u001b[0;34m\u001b[0m\u001b[0m\n\u001b[1;32m    777\u001b[0m             \u001b[0;31m# GH#38939 de facto copy defaults to False only in non-dict cases\u001b[0m\u001b[0;34m\u001b[0m\u001b[0;34m\u001b[0m\u001b[0m\n\u001b[0;32m--> 778\u001b[0;31m             \u001b[0mmgr\u001b[0m \u001b[0;34m=\u001b[0m \u001b[0mdict_to_mgr\u001b[0m\u001b[0;34m(\u001b[0m\u001b[0mdata\u001b[0m\u001b[0;34m,\u001b[0m \u001b[0mindex\u001b[0m\u001b[0;34m,\u001b[0m \u001b[0mcolumns\u001b[0m\u001b[0;34m,\u001b[0m \u001b[0mdtype\u001b[0m\u001b[0;34m=\u001b[0m\u001b[0mdtype\u001b[0m\u001b[0;34m,\u001b[0m \u001b[0mcopy\u001b[0m\u001b[0;34m=\u001b[0m\u001b[0mcopy\u001b[0m\u001b[0;34m,\u001b[0m \u001b[0mtyp\u001b[0m\u001b[0;34m=\u001b[0m\u001b[0mmanager\u001b[0m\u001b[0;34m)\u001b[0m\u001b[0;34m\u001b[0m\u001b[0;34m\u001b[0m\u001b[0m\n\u001b[0m\u001b[1;32m    779\u001b[0m         \u001b[0;32melif\u001b[0m \u001b[0misinstance\u001b[0m\u001b[0;34m(\u001b[0m\u001b[0mdata\u001b[0m\u001b[0;34m,\u001b[0m \u001b[0mma\u001b[0m\u001b[0;34m.\u001b[0m\u001b[0mMaskedArray\u001b[0m\u001b[0;34m)\u001b[0m\u001b[0;34m:\u001b[0m\u001b[0;34m\u001b[0m\u001b[0;34m\u001b[0m\u001b[0m\n\u001b[1;32m    780\u001b[0m             \u001b[0;32mfrom\u001b[0m \u001b[0mnumpy\u001b[0m\u001b[0;34m.\u001b[0m\u001b[0mma\u001b[0m \u001b[0;32mimport\u001b[0m \u001b[0mmrecords\u001b[0m\u001b[0;34m\u001b[0m\u001b[0;34m\u001b[0m\u001b[0m\n",
            "\u001b[0;32m/usr/local/lib/python3.10/dist-packages/pandas/core/internals/construction.py\u001b[0m in \u001b[0;36mdict_to_mgr\u001b[0;34m(data, index, columns, dtype, typ, copy)\u001b[0m\n\u001b[1;32m    501\u001b[0m             \u001b[0marrays\u001b[0m \u001b[0;34m=\u001b[0m \u001b[0;34m[\u001b[0m\u001b[0mx\u001b[0m\u001b[0;34m.\u001b[0m\u001b[0mcopy\u001b[0m\u001b[0;34m(\u001b[0m\u001b[0;34m)\u001b[0m \u001b[0;32mif\u001b[0m \u001b[0mhasattr\u001b[0m\u001b[0;34m(\u001b[0m\u001b[0mx\u001b[0m\u001b[0;34m,\u001b[0m \u001b[0;34m\"dtype\"\u001b[0m\u001b[0;34m)\u001b[0m \u001b[0;32melse\u001b[0m \u001b[0mx\u001b[0m \u001b[0;32mfor\u001b[0m \u001b[0mx\u001b[0m \u001b[0;32min\u001b[0m \u001b[0marrays\u001b[0m\u001b[0;34m]\u001b[0m\u001b[0;34m\u001b[0m\u001b[0;34m\u001b[0m\u001b[0m\n\u001b[1;32m    502\u001b[0m \u001b[0;34m\u001b[0m\u001b[0m\n\u001b[0;32m--> 503\u001b[0;31m     \u001b[0;32mreturn\u001b[0m \u001b[0marrays_to_mgr\u001b[0m\u001b[0;34m(\u001b[0m\u001b[0marrays\u001b[0m\u001b[0;34m,\u001b[0m \u001b[0mcolumns\u001b[0m\u001b[0;34m,\u001b[0m \u001b[0mindex\u001b[0m\u001b[0;34m,\u001b[0m \u001b[0mdtype\u001b[0m\u001b[0;34m=\u001b[0m\u001b[0mdtype\u001b[0m\u001b[0;34m,\u001b[0m \u001b[0mtyp\u001b[0m\u001b[0;34m=\u001b[0m\u001b[0mtyp\u001b[0m\u001b[0;34m,\u001b[0m \u001b[0mconsolidate\u001b[0m\u001b[0;34m=\u001b[0m\u001b[0mcopy\u001b[0m\u001b[0;34m)\u001b[0m\u001b[0;34m\u001b[0m\u001b[0;34m\u001b[0m\u001b[0m\n\u001b[0m\u001b[1;32m    504\u001b[0m \u001b[0;34m\u001b[0m\u001b[0m\n\u001b[1;32m    505\u001b[0m \u001b[0;34m\u001b[0m\u001b[0m\n",
            "\u001b[0;32m/usr/local/lib/python3.10/dist-packages/pandas/core/internals/construction.py\u001b[0m in \u001b[0;36marrays_to_mgr\u001b[0;34m(arrays, columns, index, dtype, verify_integrity, typ, consolidate)\u001b[0m\n\u001b[1;32m    112\u001b[0m         \u001b[0;31m# figure out the index, if necessary\u001b[0m\u001b[0;34m\u001b[0m\u001b[0;34m\u001b[0m\u001b[0m\n\u001b[1;32m    113\u001b[0m         \u001b[0;32mif\u001b[0m \u001b[0mindex\u001b[0m \u001b[0;32mis\u001b[0m \u001b[0;32mNone\u001b[0m\u001b[0;34m:\u001b[0m\u001b[0;34m\u001b[0m\u001b[0;34m\u001b[0m\u001b[0m\n\u001b[0;32m--> 114\u001b[0;31m             \u001b[0mindex\u001b[0m \u001b[0;34m=\u001b[0m \u001b[0m_extract_index\u001b[0m\u001b[0;34m(\u001b[0m\u001b[0marrays\u001b[0m\u001b[0;34m)\u001b[0m\u001b[0;34m\u001b[0m\u001b[0;34m\u001b[0m\u001b[0m\n\u001b[0m\u001b[1;32m    115\u001b[0m         \u001b[0;32melse\u001b[0m\u001b[0;34m:\u001b[0m\u001b[0;34m\u001b[0m\u001b[0;34m\u001b[0m\u001b[0m\n\u001b[1;32m    116\u001b[0m             \u001b[0mindex\u001b[0m \u001b[0;34m=\u001b[0m \u001b[0mensure_index\u001b[0m\u001b[0;34m(\u001b[0m\u001b[0mindex\u001b[0m\u001b[0;34m)\u001b[0m\u001b[0;34m\u001b[0m\u001b[0;34m\u001b[0m\u001b[0m\n",
            "\u001b[0;32m/usr/local/lib/python3.10/dist-packages/pandas/core/internals/construction.py\u001b[0m in \u001b[0;36m_extract_index\u001b[0;34m(data)\u001b[0m\n\u001b[1;32m    675\u001b[0m         \u001b[0mlengths\u001b[0m \u001b[0;34m=\u001b[0m \u001b[0mlist\u001b[0m\u001b[0;34m(\u001b[0m\u001b[0mset\u001b[0m\u001b[0;34m(\u001b[0m\u001b[0mraw_lengths\u001b[0m\u001b[0;34m)\u001b[0m\u001b[0;34m)\u001b[0m\u001b[0;34m\u001b[0m\u001b[0;34m\u001b[0m\u001b[0m\n\u001b[1;32m    676\u001b[0m         \u001b[0;32mif\u001b[0m \u001b[0mlen\u001b[0m\u001b[0;34m(\u001b[0m\u001b[0mlengths\u001b[0m\u001b[0;34m)\u001b[0m \u001b[0;34m>\u001b[0m \u001b[0;36m1\u001b[0m\u001b[0;34m:\u001b[0m\u001b[0;34m\u001b[0m\u001b[0;34m\u001b[0m\u001b[0m\n\u001b[0;32m--> 677\u001b[0;31m             \u001b[0;32mraise\u001b[0m \u001b[0mValueError\u001b[0m\u001b[0;34m(\u001b[0m\u001b[0;34m\"All arrays must be of the same length\"\u001b[0m\u001b[0;34m)\u001b[0m\u001b[0;34m\u001b[0m\u001b[0;34m\u001b[0m\u001b[0m\n\u001b[0m\u001b[1;32m    678\u001b[0m \u001b[0;34m\u001b[0m\u001b[0m\n\u001b[1;32m    679\u001b[0m         \u001b[0;32mif\u001b[0m \u001b[0mhave_dicts\u001b[0m\u001b[0;34m:\u001b[0m\u001b[0;34m\u001b[0m\u001b[0;34m\u001b[0m\u001b[0m\n",
            "\u001b[0;31mValueError\u001b[0m: All arrays must be of the same length"
          ]
        }
      ]
    },
    {
      "cell_type": "markdown",
      "id": "2523b049",
      "metadata": {
        "id": "2523b049"
      },
      "source": [
        "\n",
        "<a name='1-1'></a>\n",
        "\n",
        "# Declaración\n",
        "[regresar al contenido](#c1)\n",
        "\n",
        "La manera de declarar un diccionario es la siguiente"
      ]
    },
    {
      "cell_type": "code",
      "execution_count": 21,
      "id": "089653d8",
      "metadata": {
        "id": "089653d8"
      },
      "outputs": [],
      "source": [
        "star = {'name': 'Hamal', 'mag': 2.00, 'SpT': 'K2III', 'dist': 66}"
      ]
    },
    {
      "cell_type": "markdown",
      "id": "bf21d662",
      "metadata": {
        "id": "bf21d662"
      },
      "source": [
        "<a name='1-2'></a>\n",
        "\n",
        "# Tipo de dato o clase\n",
        "[regresar al contenido](#c1)\n",
        "\n",
        "Cabe mencionar que la clase de dicha estructura es **dict**, como se observa a continuación"
      ]
    },
    {
      "cell_type": "code",
      "execution_count": 22,
      "id": "26528169",
      "metadata": {
        "id": "26528169",
        "outputId": "3223ed09-c2fc-40c7-a7c6-ee021f8bffe6",
        "colab": {
          "base_uri": "https://localhost:8080/"
        }
      },
      "outputs": [
        {
          "output_type": "stream",
          "name": "stdout",
          "text": [
            "<class 'dict'>\n"
          ]
        }
      ],
      "source": [
        "print(type(star))"
      ]
    },
    {
      "cell_type": "markdown",
      "id": "c654166f",
      "metadata": {
        "id": "c654166f"
      },
      "source": [
        "<a name='1-3'></a>\n",
        "\n",
        "# Método Keys()\n",
        "[regresar al contenido](#c1)\n",
        "\n",
        "Si desea conocer los nombres de todas las variables en el diccionario se hace de la siguiente manera **nombre_diccionario.keys()**"
      ]
    },
    {
      "cell_type": "markdown",
      "id": "8351e187",
      "metadata": {
        "id": "8351e187"
      },
      "source": [
        "Si desea conocer los nombres de todas las variables en el diccionario se hace de la siguiente manera **nombre_diccionario.keys()**"
      ]
    },
    {
      "cell_type": "code",
      "execution_count": 23,
      "id": "d157b8aa",
      "metadata": {
        "id": "d157b8aa",
        "outputId": "9f9230ad-e666-47f5-9cf8-7184c670f5f7",
        "colab": {
          "base_uri": "https://localhost:8080/"
        }
      },
      "outputs": [
        {
          "output_type": "execute_result",
          "data": {
            "text/plain": [
              "dict_keys(['name', 'mag', 'SpT', 'dist'])"
            ]
          },
          "metadata": {},
          "execution_count": 23
        }
      ],
      "source": [
        "star.keys()"
      ]
    },
    {
      "cell_type": "markdown",
      "id": "5cbba2cc",
      "metadata": {
        "id": "5cbba2cc"
      },
      "source": [
        "<a name='1-4'></a>\n",
        "\n",
        "# Método Values()\n",
        "[regresar al contenido](#c1)"
      ]
    },
    {
      "cell_type": "markdown",
      "id": "98b84393",
      "metadata": {
        "id": "98b84393"
      },
      "source": [
        "Los valores los obtienes con **nombre_diccionario.values()**"
      ]
    },
    {
      "cell_type": "code",
      "execution_count": 24,
      "id": "35a93859",
      "metadata": {
        "id": "35a93859",
        "outputId": "9f1adf47-5c0a-4d59-f5c5-c4ed9657704b",
        "colab": {
          "base_uri": "https://localhost:8080/"
        }
      },
      "outputs": [
        {
          "output_type": "execute_result",
          "data": {
            "text/plain": [
              "dict_values(['Hamal', 2.0, 'K2III', 66])"
            ]
          },
          "metadata": {},
          "execution_count": 24
        }
      ],
      "source": [
        "star.values()"
      ]
    },
    {
      "cell_type": "markdown",
      "id": "26c3d282",
      "metadata": {
        "id": "26c3d282"
      },
      "source": [
        "<a name='1-5'></a>\n",
        "\n",
        "# Método de acceso a elementos\n",
        "[regresar al contenido](#c1)"
      ]
    },
    {
      "cell_type": "markdown",
      "id": "bac4feeb",
      "metadata": {
        "id": "bac4feeb"
      },
      "source": [
        "La manera para visualizar un elemento específico del diccionario es como sigue **nombre_diccionario['llave']**"
      ]
    },
    {
      "cell_type": "code",
      "execution_count": 25,
      "id": "a61f04bb",
      "metadata": {
        "id": "a61f04bb",
        "outputId": "ff63c10d-811e-4669-8652-00bc8290e01c",
        "colab": {
          "base_uri": "https://localhost:8080/"
        }
      },
      "outputs": [
        {
          "output_type": "stream",
          "name": "stdout",
          "text": [
            "Hamal\n"
          ]
        }
      ],
      "source": [
        "print( star['name'] )"
      ]
    },
    {
      "cell_type": "markdown",
      "id": "470c9eb0",
      "metadata": {
        "id": "470c9eb0"
      },
      "source": [
        "<a name='1-6'></a>\n",
        "\n",
        "# Agregar elementos\n",
        "[regresar al contenido](#c1)"
      ]
    },
    {
      "cell_type": "markdown",
      "id": "fbdb1ce0",
      "metadata": {
        "id": "fbdb1ce0"
      },
      "source": [
        "Para agregar una nueva variable se realiza de la siguiente manera **nombre_diccionario['nueva_variable']=valor_nuevo**"
      ]
    },
    {
      "cell_type": "code",
      "execution_count": 26,
      "id": "1d68d1e7",
      "metadata": {
        "id": "1d68d1e7"
      },
      "outputs": [],
      "source": [
        "star['paralax'] = 49.56"
      ]
    },
    {
      "cell_type": "markdown",
      "id": "2b2deb36",
      "metadata": {
        "id": "2b2deb36"
      },
      "source": [
        "Aplicamos nuevamente el método Keys para visualizar que se haya agregado el elemento nuevo."
      ]
    },
    {
      "cell_type": "code",
      "execution_count": 27,
      "id": "90a99770",
      "metadata": {
        "id": "90a99770",
        "outputId": "1dbf8f61-062a-4704-af46-97a7c2c0d6ae",
        "colab": {
          "base_uri": "https://localhost:8080/"
        }
      },
      "outputs": [
        {
          "output_type": "execute_result",
          "data": {
            "text/plain": [
              "dict_keys(['name', 'mag', 'SpT', 'dist', 'paralax'])"
            ]
          },
          "metadata": {},
          "execution_count": 27
        }
      ],
      "source": [
        "star.keys()"
      ]
    },
    {
      "cell_type": "markdown",
      "id": "90b5c193",
      "metadata": {
        "id": "90b5c193"
      },
      "source": [
        "La siguiente función es un ejemplo, en el cual se usa lo visto anteriormente de un lista y un diccionario, simplemente se extraen los valores del diccionario.\n"
      ]
    },
    {
      "cell_type": "markdown",
      "id": "44fbd2b3",
      "metadata": {
        "id": "44fbd2b3"
      },
      "source": [
        "<a name='2'></a>\n",
        "\n",
        "# Ejemplo\n",
        "[regresar al contenido](#c1)\n",
        "\n",
        "Otra manera para declarar un diccionario es la siguiente"
      ]
    },
    {
      "cell_type": "code",
      "execution_count": 28,
      "id": "c8237473",
      "metadata": {
        "id": "c8237473",
        "outputId": "4ef27b65-2515-472f-c8f2-12c543d83219",
        "colab": {
          "base_uri": "https://localhost:8080/"
        }
      },
      "outputs": [
        {
          "output_type": "stream",
          "name": "stdout",
          "text": [
            "{'brand': 'Ford', 'model': 'Mustang', 'year': 2020}\n"
          ]
        }
      ],
      "source": [
        "thisdict = {\n",
        "  \"brand\": \"Ford\",\n",
        "  \"model\": \"Mustang\",\n",
        "  \"year\": 1964,\n",
        "  \"year\": 2020\n",
        "}\n",
        "print(thisdict)"
      ]
    },
    {
      "cell_type": "markdown",
      "id": "01d6e36c",
      "metadata": {
        "id": "01d6e36c"
      },
      "source": [
        "<a name='3'></a>\n",
        "\n",
        "# Tipos de datos en un diccionario\n",
        "[regresar al contenido](#c1)\n",
        "\n",
        "En un diccionario se pueden guardar todo tipo de variables y tipos de datos."
      ]
    },
    {
      "cell_type": "code",
      "execution_count": 29,
      "id": "e1d2a9fb",
      "metadata": {
        "id": "e1d2a9fb"
      },
      "outputs": [],
      "source": [
        "thisdict = {\n",
        "  \"brand\": \"Ford\",\n",
        "  \"electric\": False,\n",
        "  \"year\": 1964,\n",
        "  \"colors\": [\"red\", \"white\", \"blue\"]\n",
        "}"
      ]
    },
    {
      "cell_type": "markdown",
      "id": "68917abf",
      "metadata": {
        "id": "68917abf"
      },
      "source": [
        "<a name='4'></a>\n",
        "\n",
        "# Pasar valores de un diccionario a una lista\n",
        "[regresar al contenido](#c1)"
      ]
    },
    {
      "cell_type": "code",
      "execution_count": 30,
      "id": "8eab08a3",
      "metadata": {
        "id": "8eab08a3",
        "outputId": "c97a3b9f-2170-489c-ef84-a430581059e7",
        "colab": {
          "base_uri": "https://localhost:8080/"
        }
      },
      "outputs": [
        {
          "output_type": "stream",
          "name": "stdout",
          "text": [
            "[2.7, 2.13, 5.7]\n"
          ]
        }
      ],
      "source": [
        "diccionario = {'python': 2.7, 'zope': 2.13, 'plone': 5.7}\n",
        "\n",
        "l=[]\n",
        "for i in diccionario.keys():\n",
        "    l.append(diccionario[i])\n",
        "\n",
        "print(l)"
      ]
    },
    {
      "cell_type": "markdown",
      "id": "06c413ef",
      "metadata": {
        "id": "06c413ef"
      },
      "source": [
        "<a name='5'></a>\n",
        "\n",
        "# Utilidad de los diccionarios\n",
        "[regresar al contenido](#c1)"
      ]
    },
    {
      "cell_type": "code",
      "execution_count": 31,
      "id": "2c99d518",
      "metadata": {
        "id": "2c99d518",
        "outputId": "65752f63-2ae0-4be7-bc67-83d91557e5ae",
        "colab": {
          "base_uri": "https://localhost:8080/"
        }
      },
      "outputs": [
        {
          "output_type": "stream",
          "name": "stdout",
          "text": [
            "  Nombre  Edad     Ciudad\n",
            "0   Juan    25     Madrid\n",
            "1  María    28  Barcelona\n",
            "2  Pedro    22   Valencia\n",
            "3  Luisa    30    Sevilla\n"
          ]
        }
      ],
      "source": [
        "import pandas as pd\n",
        "\n",
        "# Crear un diccionario con datos\n",
        "datos = {\n",
        "    'Nombre': ['Juan', 'María', 'Pedro', 'Luisa'],\n",
        "    'Edad': [25, 28, 22, 30],\n",
        "    'Ciudad': ['Madrid', 'Barcelona', 'Valencia', 'Sevilla']\n",
        "}\n",
        "\n",
        "# Crear un DataFrame a partir del diccionario\n",
        "dataframe = pd.DataFrame(datos)\n",
        "\n",
        "# Mostrar el DataFrame\n",
        "print(dataframe)\n"
      ]
    },
    {
      "cell_type": "markdown",
      "id": "183da1db",
      "metadata": {
        "id": "183da1db"
      },
      "source": [
        "<a name='6'></a>\n",
        "\n",
        "# Ejercicios propuestos\n",
        "[regresar al contenido](#c1)"
      ]
    },
    {
      "cell_type": "markdown",
      "id": "4ff701a7",
      "metadata": {
        "id": "4ff701a7"
      },
      "source": [
        "Propuestas de ejercicios para practicar con diccionarios en Python:\n",
        "\n",
        "1. **Contador de Palabras**: Escribe un programa que cuente cuántas veces aparece cada palabra en una frase y almacene los resultados en un diccionario.\n",
        "\n",
        "2. **Gestión de Inventario**: Crea un programa que simule la gestión de inventario de una tienda. Puedes agregar y restar cantidades de productos utilizando diccionarios.\n",
        "\n",
        "3. **Diccionario Invertido**: Escribe una función que tome un diccionario como entrada y genere un nuevo diccionario donde las claves sean los valores del diccionario original y los valores sean las claves.\n",
        "\n",
        "4. **Contar Caracteres**: Crea una función que tome una cadena como entrada y devuelva un diccionario que cuente la cantidad de veces que aparece cada caracter.\n",
        "\n",
        "5. **Unión de Diccionarios**: Implementa una función que tome dos diccionarios y los combine en uno solo. Si hay claves repetidas, suma los valores.\n",
        "\n",
        "6. **Máximo Valor en Diccionario**: Escribe una función que encuentre la clave asociada al valor máximo en un diccionario de números.\n",
        "\n",
        "7. **Modificar Valores**: Crea un programa que permita al usuario modificar los valores de un diccionario de información personal.\n",
        "\n",
        "8. **Cálculo de Notas**: Crea un programa que calcule el promedio de calificaciones de estudiantes y los almacene en un diccionario con sus nombres.\n",
        "\n",
        "9. **Análisis de Texto**: Escribe una función que tome un texto como entrada y genere un diccionario con las palabras únicas y la cantidad de veces que aparece cada una.\n",
        "\n",
        "10. **Diccionario de Palabras Anidadas**: Crea un diccionario que contenga información sobre diferentes países, como sus ciudades y poblaciones. Puedes anidar diccionarios dentro de otros diccionarios.\n",
        "\n",
        "11. **Contador de Letras**: Escribe un programa que cuente cuántas veces aparece cada letra en una cadena y almacene los resultados en un diccionario.\n",
        "\n",
        "12. **Traductor Simple**: Crea un programa que funcione como un traductor simple, utilizando un diccionario para mapear palabras en un idioma a otro.\n",
        "\n",
        "13. **Estadísticas de Palabras**: Implementa una función que tome un párrafo como entrada y genere un diccionario con estadísticas sobre las palabras (número de letras, número de vocales, etc.).\n",
        "\n",
        "14. **Eliminación de Duplicados**: Escribe un programa que tome una lista y elimine los elementos duplicados, utilizando un diccionario para rastrear elementos únicos.\n",
        "\n",
        "15. **Contador de Elementos**: Crea una función que tome una lista y genere un diccionario que cuente cuántas veces aparece cada elemento.\n",
        "\n",
        "Estos ejercicios te brindarán la oportunidad de practicar y familiarizarte con la manipulación y uso de diccionarios en Python. ¡Disfruta resolviéndolos!"
      ]
    }
  ],
  "metadata": {
    "colab": {
      "provenance": [],
      "include_colab_link": true
    },
    "kernelspec": {
      "display_name": "Python 3 (ipykernel)",
      "language": "python",
      "name": "python3"
    },
    "language_info": {
      "codemirror_mode": {
        "name": "ipython",
        "version": 3
      },
      "file_extension": ".py",
      "mimetype": "text/x-python",
      "name": "python",
      "nbconvert_exporter": "python",
      "pygments_lexer": "ipython3",
      "version": "3.9.12"
    }
  },
  "nbformat": 4,
  "nbformat_minor": 5
}